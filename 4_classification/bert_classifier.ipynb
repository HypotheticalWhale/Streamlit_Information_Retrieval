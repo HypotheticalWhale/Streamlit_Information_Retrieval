{
  "nbformat": 4,
  "nbformat_minor": 0,
  "metadata": {
    "colab": {
      "provenance": [],
      "collapsed_sections": [
        "yNa_d21ca8yO",
        "rzi8I76sbXXd"
      ]
    },
    "kernelspec": {
      "name": "python3",
      "display_name": "Python 3"
    },
    "language_info": {
      "name": "python"
    }
  },
  "cells": [
    {
      "cell_type": "markdown",
      "source": [
        "# Sentiment Analysis\n",
        "Sentiment analysis using Bidirectional Encoder Representations from Transformers classifier\n",
        "* BERT model\n",
        "* RoBERTa model"
      ],
      "metadata": {
        "id": "vKPo1s32ass6"
      }
    },
    {
      "cell_type": "markdown",
      "source": [
        "## Import and install required libraries"
      ],
      "metadata": {
        "id": "yNa_d21ca8yO"
      }
    },
    {
      "cell_type": "code",
      "execution_count": null,
      "metadata": {
        "id": "3547f4af"
      },
      "outputs": [],
      "source": [
        "import torch\n",
        "import transformers\n",
        "from tqdm import tqdm\n",
        "from collections import Counter\n",
        "import pandas as pd\n",
        "import numpy as np\n",
        "import re\n",
        "import os\n",
        "import seaborn as sb\n",
        "import matplotlib.pyplot as plt \n",
        "sb.set() \n",
        "import nltk\n",
        "import tensorflow as tf\n",
        "from nltk.stem import WordNetLemmatizer\n",
        "from nltk import pos_tag, word_tokenize\n",
        "from nltk.corpus import stopwords, wordnet\n",
        "from torch.utils.data import Dataset, DataLoader,TensorDataset,RandomSampler, SequentialSampler\n",
        "from transformers import BertModel, BertTokenizer,BertForSequenceClassification\n",
        "import logging\n",
        "logging.basicConfig(level=logging.ERROR)\n",
        "device = torch.device(\"cuda\" if torch.cuda.is_available() else \"cpu\")\n",
        "import torch.nn as nn\n",
        "from transformers import BertModel\n",
        "from sklearn.preprocessing import LabelEncoder, OneHotEncoder\n",
        "from sklearn.metrics import precision_recall_fscore_support, accuracy_score\n",
        "import time\n",
        "from sklearn.metrics import confusion_matrix, classification_report, accuracy_score\n",
        "from sklearn.metrics import precision_recall_fscore_support\n",
        "from transformers import RobertaTokenizer, RobertaModel, AdamW\n",
        "import torch.nn as nn\n"
      ]
    },
    {
      "cell_type": "markdown",
      "source": [
        "## Read dataset"
      ],
      "metadata": {
        "id": "rzi8I76sbXXd"
      }
    },
    {
      "cell_type": "code",
      "execution_count": null,
      "metadata": {
        "id": "d1054027"
      },
      "outputs": [],
      "source": [
        "train_data = pd.read_csv('../dataset/train_aug.csv')\n",
        "test_data = pd.read_csv('../dataset/test.csv')\n",
        "full_dataset_df = pd.read_csv('../dataset/full_dataset_final.csv')"
      ]
    },
    {
      "cell_type": "markdown",
      "source": [
        "## BERT model"
      ],
      "metadata": {
        "id": "zzVc5ey2cori"
      }
    },
    {
      "cell_type": "code",
      "execution_count": null,
      "metadata": {
        "id": "8a9c73e0"
      },
      "outputs": [],
      "source": [
        "# Defining some key variables that will be used later on in the training\n",
        "TRAIN_BATCH_SIZE = 16\n",
        "VALID_BATCH_SIZE = 8\n",
        "# EPOCHS = 1\n",
        "LEARNING_RATE = 1e-05\n",
        "tokenizer = BertTokenizer.from_pretrained('bert-base-uncased', truncation=True, do_lower_case=True)"
      ]
    },
    {
      "cell_type": "code",
      "execution_count": null,
      "metadata": {
        "id": "4d2be1ed"
      },
      "outputs": [],
      "source": [
        "class SentimentClassifier(nn.Module):\n",
        "    def __init__(self, n_classes):\n",
        "        super(SentimentClassifier, self).__init__()\n",
        "        self.bert = BertModel.from_pretrained('bert-base-uncased')\n",
        "        self.drop = nn.Dropout(self.bert.config.hidden_dropout_prob)\n",
        "        self.out = nn.Linear(self.bert.config.hidden_size, n_classes)\n",
        "\n",
        "    def forward(self, input_ids, attention_mask):\n",
        "        _, pooled_output = self.bert(\n",
        "            input_ids=input_ids,\n",
        "            attention_mask=attention_mask\n",
        "        ,return_dict=False)\n",
        "        \n",
        "        output = self.drop(pooled_output)\n",
        "    \n",
        "        \n",
        "#         print(input_ids.shape)\n",
        "#         print(input_ids.dtype)\n",
        "#         print(attention_mask.shape)\n",
        "#         print(attention_mask.dtype)\n",
        "#         print(type(pooled_output))\n",
        "#         print(pooled_output)\n",
        "        \n",
        "        output = self.drop(pooled_output)\n",
        "        return self.out(output)"
      ]
    },
    {
      "cell_type": "code",
      "execution_count": null,
      "metadata": {
        "id": "4882c1ad",
        "outputId": "a5b8e2b6-f800-4e65-c98c-46b304e43ef9"
      },
      "outputs": [
        {
          "name": "stderr",
          "output_type": "stream",
          "text": [
            "Some weights of the model checkpoint at bert-base-uncased were not used when initializing BertModel: ['cls.predictions.transform.LayerNorm.weight', 'cls.seq_relationship.bias', 'cls.predictions.transform.LayerNorm.bias', 'cls.predictions.bias', 'cls.seq_relationship.weight', 'cls.predictions.transform.dense.bias', 'cls.predictions.transform.dense.weight', 'cls.predictions.decoder.weight']\n",
            "- This IS expected if you are initializing BertModel from the checkpoint of a model trained on another task or with another architecture (e.g. initializing a BertForSequenceClassification model from a BertForPreTraining model).\n",
            "- This IS NOT expected if you are initializing BertModel from the checkpoint of a model that you expect to be exactly identical (initializing a BertForSequenceClassification model from a BertForSequenceClassification model).\n"
          ]
        }
      ],
      "source": [
        "model = SentimentClassifier(n_classes=3, ).to(device)"
      ]
    },
    {
      "cell_type": "code",
      "execution_count": null,
      "metadata": {
        "id": "d27a2240"
      },
      "outputs": [],
      "source": [
        "optimizer = torch.optim.Adam(model.parameters(), lr=LEARNING_RATE)\n",
        "loss_fn = torch.nn.CrossEntropyLoss().to(device)"
      ]
    },
    {
      "cell_type": "code",
      "execution_count": null,
      "metadata": {
        "id": "b70396ad"
      },
      "outputs": [],
      "source": [
        "from sklearn.model_selection import train_test_split"
      ]
    },
    {
      "cell_type": "code",
      "execution_count": null,
      "metadata": {
        "id": "d02c08b6"
      },
      "outputs": [],
      "source": [
        "X_train, x_val, Y_train, y_val = train_test_split(train_data['clean_text'], train_data['manual_label'], test_size=0.2,stratify=train_data['manual_label'], random_state=42)"
      ]
    },
    {
      "cell_type": "code",
      "execution_count": null,
      "metadata": {
        "id": "d00a4385"
      },
      "outputs": [],
      "source": [
        "X_test, y_test = test_data['clean_text'].to_numpy(), test_data['manual_label'].to_numpy()\n",
        "X_full_dataset, Y_full_dataset = full_dataset_df['clean_text'].to_numpy(), [0]*full_dataset_df.shape[0]"
      ]
    },
    {
      "cell_type": "code",
      "execution_count": null,
      "metadata": {
        "id": "a02f759e",
        "outputId": "0d8f0b44-9921-4838-e820-823616dd4194"
      },
      "outputs": [
        {
          "name": "stderr",
          "output_type": "stream",
          "text": [
            "/home/UG/teog0015/.conda/envs/patenv/lib/python3.9/site-packages/transformers/tokenization_utils_base.py:2346: FutureWarning: The `pad_to_max_length` argument is deprecated and will be removed in a future version, use `padding=True` or `padding='longest'` to pad to the longest sequence in the batch, or use `padding='max_length'` to pad to a max length. In this case, you can give a specific length with `max_length` (e.g. `max_length=45`) or leave max_length to None to pad to the maximal input size of the model (e.g. 512 for Bert).\n",
            "  warnings.warn(\n"
          ]
        }
      ],
      "source": [
        "# Tokenize the text and convert them to PyTorch tensors\n",
        "train_tokens = tokenizer.batch_encode_plus(\n",
        "    X_train.values.tolist(),\n",
        "    max_length=256,\n",
        "    pad_to_max_length=True,\n",
        "    truncation=True\n",
        ")\n",
        "\n",
        "val_tokens = tokenizer.batch_encode_plus(\n",
        "    x_val.values.tolist(),\n",
        "    max_length=256,\n",
        "    pad_to_max_length=True,\n",
        "    truncation=True\n",
        ")\n",
        "\n",
        "test_tokens = tokenizer.batch_encode_plus(\n",
        "    X_test,\n",
        "    max_length=256,\n",
        "    pad_to_max_length=True,\n",
        "    truncation=True\n",
        ")\n",
        "\n",
        "\n",
        "full_dataset_tokens = tokenizer.batch_encode_plus(\n",
        "    X_full_dataset,\n",
        "    max_length=256,\n",
        "    pad_to_max_length=True,\n",
        "    truncation=True\n",
        ")"
      ]
    },
    {
      "cell_type": "code",
      "execution_count": null,
      "metadata": {
        "id": "be90e00f",
        "outputId": "575df536-4237-4e10-e43e-a1e26b6a087e"
      },
      "outputs": [
        {
          "name": "stderr",
          "output_type": "stream",
          "text": [
            "/home/UG/teog0015/.conda/envs/patenv/lib/python3.9/site-packages/sklearn/preprocessing/_encoders.py:828: FutureWarning: `sparse` was renamed to `sparse_output` in version 1.2 and will be removed in 1.4. `sparse_output` is ignored unless you leave `sparse` to its default value.\n",
            "  warnings.warn(\n"
          ]
        }
      ],
      "source": [
        "# Encode the labels as integers\n",
        "label_encoder = LabelEncoder()\n",
        "train_y_encoded = label_encoder.fit_transform(Y_train)\n",
        "val_y_encoded = label_encoder.transform(y_val)\n",
        "test_y_encoded = label_encoder.transform(y_test)\n",
        "\n",
        "# One-hot encode the labels\n",
        "onehot_encoder = OneHotEncoder(sparse=False, categories='auto')\n",
        "train_y = onehot_encoder.fit_transform(train_y_encoded.reshape(-1, 1))\n",
        "val_y = onehot_encoder.transform(val_y_encoded.reshape(-1, 1))\n",
        "test_y = onehot_encoder.transform(test_y_encoded.reshape(-1, 1))"
      ]
    },
    {
      "cell_type": "code",
      "execution_count": null,
      "metadata": {
        "id": "57848354"
      },
      "outputs": [],
      "source": [
        "train_seq = torch.tensor(train_tokens['input_ids'])\n",
        "train_mask = torch.tensor(train_tokens['attention_mask'])\n",
        "train_y = torch.tensor(train_y)\n",
        "\n",
        "val_seq = torch.tensor(val_tokens['input_ids'])\n",
        "val_mask = torch.tensor(val_tokens['attention_mask'])\n",
        "val_y = torch.tensor(val_y)\n",
        "\n",
        "test_seq = torch.tensor(test_tokens['input_ids'])\n",
        "test_mask = torch.tensor(test_tokens['attention_mask'])\n",
        "test_y = torch.tensor(test_y)\n",
        "\n",
        "full_dataset_seq = torch.tensor(full_dataset_tokens['input_ids'])\n",
        "full_dataset_mask = torch.tensor(full_dataset_tokens['attention_mask'])\n",
        "full_dataset_y = torch.tensor(Y_full_dataset)"
      ]
    },
    {
      "cell_type": "code",
      "execution_count": null,
      "metadata": {
        "id": "643e9b78"
      },
      "outputs": [],
      "source": [
        "train_data = TensorDataset(train_seq, train_mask, train_y)\n",
        "train_dataloader = DataLoader(train_data, batch_size=TRAIN_BATCH_SIZE, shuffle=True)"
      ]
    },
    {
      "cell_type": "code",
      "execution_count": null,
      "metadata": {
        "id": "0ce15db4"
      },
      "outputs": [],
      "source": [
        "val_data = TensorDataset(val_seq, val_mask, val_y)\n",
        "val_dataloader = DataLoader(val_data, batch_size=VALID_BATCH_SIZE, shuffle=True)"
      ]
    },
    {
      "cell_type": "code",
      "execution_count": null,
      "metadata": {
        "id": "4cda96b3"
      },
      "outputs": [],
      "source": [
        "test_data = TensorDataset(test_seq, test_mask, test_y)\n",
        "test_dataloader = DataLoader(test_data, batch_size=VALID_BATCH_SIZE, shuffle=False)"
      ]
    },
    {
      "cell_type": "code",
      "execution_count": null,
      "metadata": {
        "id": "681dc050"
      },
      "outputs": [],
      "source": [
        "full_data = TensorDataset(full_dataset_seq, full_dataset_mask, full_dataset_y)\n",
        "full_dataset_dataloader = DataLoader(full_data, batch_size=VALID_BATCH_SIZE, shuffle=False)"
      ]
    },
    {
      "cell_type": "code",
      "execution_count": null,
      "metadata": {
        "scrolled": true,
        "id": "653fc2a8",
        "outputId": "fd4c6ade-a7ee-4c52-c8c6-ad3b120fcc12"
      },
      "outputs": [
        {
          "name": "stdout",
          "output_type": "stream",
          "text": [
            "Epoch 1/5\n",
            "--------------------\n"
          ]
        },
        {
          "name": "stderr",
          "output_type": "stream",
          "text": [
            "100%|██████████| 111/111 [00:25<00:00,  4.31it/s]\n"
          ]
        },
        {
          "name": "stdout",
          "output_type": "stream",
          "text": [
            "Training loss: 0.7804\n"
          ]
        },
        {
          "name": "stderr",
          "output_type": "stream",
          "text": [
            "100%|██████████| 56/56 [00:02<00:00, 24.02it/s]\n"
          ]
        },
        {
          "name": "stdout",
          "output_type": "stream",
          "text": [
            "Validation loss: 0.4958\n",
            "Validation Accuracy: 0.7902\n",
            "Validation Precision: 0.7980\n",
            "Validation Recall: 0.7905\n",
            "Validation F1-score: 0.7909\n",
            "Epoch 2/5\n",
            "--------------------\n"
          ]
        },
        {
          "name": "stderr",
          "output_type": "stream",
          "text": [
            "100%|██████████| 111/111 [00:26<00:00,  4.25it/s]\n"
          ]
        },
        {
          "name": "stdout",
          "output_type": "stream",
          "text": [
            "Training loss: 0.4062\n"
          ]
        },
        {
          "name": "stderr",
          "output_type": "stream",
          "text": [
            "100%|██████████| 56/56 [00:02<00:00, 23.42it/s]\n"
          ]
        },
        {
          "name": "stdout",
          "output_type": "stream",
          "text": [
            "Validation loss: 0.3012\n",
            "Validation Accuracy: 0.8750\n",
            "Validation Precision: 0.8719\n",
            "Validation Recall: 0.8761\n",
            "Validation F1-score: 0.8710\n",
            "Epoch 3/5\n",
            "--------------------\n"
          ]
        },
        {
          "name": "stderr",
          "output_type": "stream",
          "text": [
            "100%|██████████| 111/111 [00:25<00:00,  4.29it/s]\n"
          ]
        },
        {
          "name": "stdout",
          "output_type": "stream",
          "text": [
            "Training loss: 0.2381\n"
          ]
        },
        {
          "name": "stderr",
          "output_type": "stream",
          "text": [
            "100%|██████████| 56/56 [00:02<00:00, 23.87it/s]\n"
          ]
        },
        {
          "name": "stdout",
          "output_type": "stream",
          "text": [
            "Validation loss: 0.2586\n",
            "Validation Accuracy: 0.8929\n",
            "Validation Precision: 0.9038\n",
            "Validation Recall: 0.8941\n",
            "Validation F1-score: 0.8967\n",
            "Epoch 4/5\n",
            "--------------------\n"
          ]
        },
        {
          "name": "stderr",
          "output_type": "stream",
          "text": [
            "100%|██████████| 111/111 [00:25<00:00,  4.30it/s]\n"
          ]
        },
        {
          "name": "stdout",
          "output_type": "stream",
          "text": [
            "Training loss: 0.1641\n"
          ]
        },
        {
          "name": "stderr",
          "output_type": "stream",
          "text": [
            "100%|██████████| 56/56 [00:02<00:00, 24.07it/s]\n"
          ]
        },
        {
          "name": "stdout",
          "output_type": "stream",
          "text": [
            "Validation loss: 0.2443\n",
            "Validation Accuracy: 0.9018\n",
            "Validation Precision: 0.9048\n",
            "Validation Recall: 0.9032\n",
            "Validation F1-score: 0.9037\n",
            "Epoch 5/5\n",
            "--------------------\n"
          ]
        },
        {
          "name": "stderr",
          "output_type": "stream",
          "text": [
            "100%|██████████| 111/111 [00:25<00:00,  4.31it/s]\n"
          ]
        },
        {
          "name": "stdout",
          "output_type": "stream",
          "text": [
            "Training loss: 0.1145\n"
          ]
        },
        {
          "name": "stderr",
          "output_type": "stream",
          "text": [
            "100%|██████████| 56/56 [00:02<00:00, 24.11it/s]\n"
          ]
        },
        {
          "name": "stdout",
          "output_type": "stream",
          "text": [
            "Validation loss: 0.2771\n",
            "Validation Accuracy: 0.9018\n",
            "Validation Precision: 0.9089\n",
            "Validation Recall: 0.9009\n",
            "Validation F1-score: 0.9027\n",
            "Training time: 141.067\n"
          ]
        }
      ],
      "source": [
        "# Training loop\n",
        "\n",
        "\n",
        "print_freq = 20\n",
        "epochs = 5\n",
        "\n",
        "start = time.time()\n",
        "for epoch in range(epochs):\n",
        "    precision_ = 0\n",
        "    recall_ = 0\n",
        "    f1_ = 0\n",
        "    print(f'Epoch {epoch + 1}/{epochs}')\n",
        "    print('-' * 20)\n",
        "\n",
        "    model.train()\n",
        "\n",
        "    train_loss = 0\n",
        "    for batch in tqdm(train_dataloader):\n",
        "        batch_seq, batch_mask, batch_y = tuple(t.to(device) for t in batch)\n",
        "        outputs = model(input_ids= batch_seq, attention_mask=batch_mask)\n",
        "        loss = loss_fn(outputs, batch_y)\n",
        "        train_loss += loss.item()\n",
        "        loss.backward()\n",
        "        optimizer.step()\n",
        "        optimizer.zero_grad()\n",
        "\n",
        "    train_loss = train_loss / len(train_dataloader)\n",
        "    print(f'Training loss: {train_loss:.4f}')\n",
        "\n",
        "    model.eval()\n",
        "\n",
        "    eval_loss = 0\n",
        "    eval_acc = 0\n",
        "    nb_eval_steps = 0\n",
        "    predictions = []\n",
        "    true_labels = []\n",
        "    for batch in tqdm(val_dataloader):\n",
        "        batch_seq, batch_mask, batch_y = tuple(t.to(device) for t in batch)\n",
        "        with torch.no_grad():\n",
        "            outputs = model(batch_seq, attention_mask=batch_mask)\n",
        "        logits = outputs\n",
        "        label_ids = batch_y.to('cpu').numpy()\n",
        "        tmp_eval_accuracy = accuracy_score(np.argmax(label_ids, axis=1), np.argmax(logits.detach().cpu().numpy(), axis=1))\n",
        "        eval_acc += tmp_eval_accuracy\n",
        "        predictions.append(np.argmax(logits.detach().cpu(), axis=1))\n",
        "        true_labels.append(np.argmax(label_ids, axis=1))\n",
        "        loss = loss_fn(logits.detach().cpu(), batch_y.to('cpu').argmax(dim=1))\n",
        "        eval_loss += loss.item()\n",
        "        nb_eval_steps += 1\n",
        "    \n",
        "    eval_loss = eval_loss / nb_eval_steps\n",
        "    eval_acc = eval_acc / len(val_dataloader)\n",
        "    print(f'Validation loss: {eval_loss:.4f}')\n",
        "    print(f'Validation Accuracy: {eval_acc:.4f}')\n",
        "\n",
        "    # Compute precision, recall, and F1-score\n",
        "    predictions = np.concatenate(predictions)\n",
        "    true_labels = np.concatenate(true_labels)\n",
        "    precision, recall, f1, _ = precision_recall_fscore_support(true_labels, predictions, average='weighted')\n",
        "    precision_ += precision\n",
        "    recall_ += recall\n",
        "    f1_ += f1\n",
        "    print(f'Validation Precision: {precision:.4f}')\n",
        "    print(f'Validation Recall: {recall:.4f}')\n",
        "    print(f'Validation F1-score: {f1:.4f}')\n",
        "\n",
        "end = time.time()\n",
        "print(\"Training time: {:.3f}\".format(end-start))\n",
        "torch.save(model.state_dict(), 'BertModel.pth')"
      ]
    },
    {
      "cell_type": "code",
      "execution_count": null,
      "metadata": {
        "id": "d6b6cef2",
        "outputId": "d3cad265-29bb-4438-fe6e-57ca5b493fac"
      },
      "outputs": [
        {
          "name": "stdout",
          "output_type": "stream",
          "text": [
            "Test loss: 0.4769\n",
            "Test Accuracy: 0.8400\n",
            "Test Precision: 0.8469\n",
            "Test Recall: 0.8400\n",
            "Test F1-score: 0.8425\n",
            "Evaluation time on test dataset: 1.992\n"
          ]
        }
      ],
      "source": [
        "# Test the model on the test set\n",
        "\n",
        "model.eval()\n",
        "test_loss = 0\n",
        "test_acc = 0\n",
        "nb_test_steps = 0\n",
        "predictions = []\n",
        "true_labels = []\n",
        "start = time.time()\n",
        "for batch in test_dataloader:\n",
        "    batch_seq, batch_mask, batch_y = tuple(t.to(device) for t in batch)\n",
        "    with torch.no_grad():\n",
        "        outputs = model(batch_seq, attention_mask=batch_mask)\n",
        "    logits = outputs\n",
        "    label_ids = batch_y.to('cpu').numpy()\n",
        "    tmp_eval_accuracy = accuracy_score(np.argmax(label_ids, axis=1), np.argmax(logits.detach().cpu().numpy(), axis=1))\n",
        "    test_acc += tmp_eval_accuracy\n",
        "    predictions.append(np.argmax(logits.detach().cpu(), axis=1))\n",
        "    true_labels.append(np.argmax(label_ids, axis=1))\n",
        "    loss = torch.nn.functional.cross_entropy(logits.detach().cpu(), batch_y.to('cpu').argmax(dim=1))\n",
        "    test_loss += loss.item()\n",
        "    nb_eval_steps += 1\n",
        "    nb_test_steps +=1\n",
        "\n",
        "end = time.time()\n",
        "test_loss = test_loss / nb_test_steps\n",
        "test_acc = test_acc / len(test_dataloader)\n",
        "print(f'Test loss: {test_loss:.4f}')\n",
        "print(f'Test Accuracy: {test_acc:.4f}')\n",
        "\n",
        "# Compute precision, recall, and F1-score\n",
        "test_predictions = np.concatenate(predictions)\n",
        "test_true_labels = np.concatenate(true_labels)\n",
        "precision, recall, f1, _ = precision_recall_fscore_support(test_true_labels, test_predictions, average='weighted')\n",
        "print(f'Test Precision: {precision:.4f}')\n",
        "print(f'Test Recall: {recall:.4f}')\n",
        "print(f'Test F1-score: {f1:.4f}')\n",
        "print(\"Evaluation time on test dataset: {:.3f}\".format(end-start))"
      ]
    },
    {
      "cell_type": "code",
      "execution_count": null,
      "metadata": {
        "id": "e5224eba",
        "outputId": "a1771858-a1c3-4225-bfba-f65b4ca68fc9"
      },
      "outputs": [
        {
          "data": {
            "text/html": [
              "<div>\n",
              "<style scoped>\n",
              "    .dataframe tbody tr th:only-of-type {\n",
              "        vertical-align: middle;\n",
              "    }\n",
              "\n",
              "    .dataframe tbody tr th {\n",
              "        vertical-align: top;\n",
              "    }\n",
              "\n",
              "    .dataframe thead th {\n",
              "        text-align: right;\n",
              "    }\n",
              "</style>\n",
              "<table border=\"1\" class=\"dataframe\">\n",
              "  <thead>\n",
              "    <tr style=\"text-align: right;\">\n",
              "      <th></th>\n",
              "      <th>clean_text</th>\n",
              "      <th>predicted_label</th>\n",
              "      <th>actual_label</th>\n",
              "    </tr>\n",
              "  </thead>\n",
              "  <tbody>\n",
              "    <tr>\n",
              "      <th>0</th>\n",
              "      <td>day mapo tofu healthy meal mean tofu got ta co...</td>\n",
              "      <td>pos</td>\n",
              "      <td>neu</td>\n",
              "    </tr>\n",
              "    <tr>\n",
              "      <th>1</th>\n",
              "      <td>azuki room magicwin cryptochazman yasirali nft...</td>\n",
              "      <td>neu</td>\n",
              "      <td>neu</td>\n",
              "    </tr>\n",
              "    <tr>\n",
              "      <th>2</th>\n",
              "      <td>nft lending agreement benddao ethereum reserve...</td>\n",
              "      <td>pos</td>\n",
              "      <td>pos</td>\n",
              "    </tr>\n",
              "    <tr>\n",
              "      <th>3</th>\n",
              "      <td>meebit bought eth usd blur meebits meebitsnft</td>\n",
              "      <td>pos</td>\n",
              "      <td>pos</td>\n",
              "    </tr>\n",
              "    <tr>\n",
              "      <th>4</th>\n",
              "      <td>sold punksticker new owner thanks enjoy nftcol...</td>\n",
              "      <td>pos</td>\n",
              "      <td>pos</td>\n",
              "    </tr>\n",
              "    <tr>\n",
              "      <th>...</th>\n",
              "      <td>...</td>\n",
              "      <td>...</td>\n",
              "      <td>...</td>\n",
              "    </tr>\n",
              "    <tr>\n",
              "      <th>395</th>\n",
              "      <td>meebits swept total eth usd blur meebits meebi...</td>\n",
              "      <td>pos</td>\n",
              "      <td>pos</td>\n",
              "    </tr>\n",
              "    <tr>\n",
              "      <th>396</th>\n",
              "      <td>voxel punkbit new owner sumrtime voxelpunkbits...</td>\n",
              "      <td>neu</td>\n",
              "      <td>pos</td>\n",
              "    </tr>\n",
              "    <tr>\n",
              "      <th>397</th>\n",
              "      <td>hmm mekaverse apekidsclub floor almost price n...</td>\n",
              "      <td>neu</td>\n",
              "      <td>neu</td>\n",
              "    </tr>\n",
              "    <tr>\n",
              "      <th>398</th>\n",
              "      <td>azuki sold eth nft collection azuki floor pric...</td>\n",
              "      <td>pos</td>\n",
              "      <td>pos</td>\n",
              "    </tr>\n",
              "    <tr>\n",
              "      <th>399</th>\n",
              "      <td>public sale live cybotz nft top nft sale last ...</td>\n",
              "      <td>pos</td>\n",
              "      <td>pos</td>\n",
              "    </tr>\n",
              "  </tbody>\n",
              "</table>\n",
              "<p>400 rows × 3 columns</p>\n",
              "</div>"
            ],
            "text/plain": [
              "                                            clean_text predicted_label  \\\n",
              "0    day mapo tofu healthy meal mean tofu got ta co...             pos   \n",
              "1    azuki room magicwin cryptochazman yasirali nft...             neu   \n",
              "2    nft lending agreement benddao ethereum reserve...             pos   \n",
              "3        meebit bought eth usd blur meebits meebitsnft             pos   \n",
              "4    sold punksticker new owner thanks enjoy nftcol...             pos   \n",
              "..                                                 ...             ...   \n",
              "395  meebits swept total eth usd blur meebits meebi...             pos   \n",
              "396  voxel punkbit new owner sumrtime voxelpunkbits...             neu   \n",
              "397  hmm mekaverse apekidsclub floor almost price n...             neu   \n",
              "398  azuki sold eth nft collection azuki floor pric...             pos   \n",
              "399  public sale live cybotz nft top nft sale last ...             pos   \n",
              "\n",
              "    actual_label  \n",
              "0            neu  \n",
              "1            neu  \n",
              "2            pos  \n",
              "3            pos  \n",
              "4            pos  \n",
              "..           ...  \n",
              "395          pos  \n",
              "396          pos  \n",
              "397          neu  \n",
              "398          pos  \n",
              "399          pos  \n",
              "\n",
              "[400 rows x 3 columns]"
            ]
          },
          "execution_count": 29,
          "metadata": {},
          "output_type": "execute_result"
        }
      ],
      "source": [
        "# Convert the predicted labels back to their original text labels\n",
        "predicted_labels = label_encoder.inverse_transform(test_predictions)\n",
        "actual_labels = label_encoder.inverse_transform(np.argmax(test_y, axis=1))\n",
        "\n",
        "# Create a new DataFrame with the predicted labels and the original labels\n",
        "results_df = pd.DataFrame({'clean_text': X_test, 'predicted_label': predicted_labels, 'actual_label': actual_labels})\n",
        "results_df"
      ]
    },
    {
      "cell_type": "code",
      "source": [
        "# A helper function for displaying the report\n",
        "def Classification_Report(y_true, y_pred):\n",
        "    print(f\"Classification Report:\\n\\n\",classification_report(y_true, y_pred))"
      ],
      "metadata": {
        "colab": {
          "base_uri": "https://localhost:8080/"
        },
        "id": "qudIDJvCCsHj",
        "outputId": "961804d8-b821-4689-e99f-8c302189efc4"
      },
      "execution_count": null,
      "outputs": [
        {
          "output_type": "stream",
          "name": "stdout",
          "text": [
            "              precision    recall  f1-score   support\n",
            "\n",
            "         neg       0.67      0.48      0.56        21\n",
            "         neu       0.80      0.70      0.74       102\n",
            "         pos       0.88      0.94      0.91       277\n",
            "\n",
            "    accuracy                           0.85       400\n",
            "   macro avg       0.78      0.70      0.74       400\n",
            "weighted avg       0.85      0.85      0.85       400\n",
            "\n"
          ]
        }
      ]
    },
    {
      "cell_type": "markdown",
      "source": [
        "## RoBERTa model"
      ],
      "metadata": {
        "id": "Jlvi8WoPdYIR"
      }
    },
    {
      "cell_type": "code",
      "execution_count": null,
      "metadata": {
        "id": "dPCVbrN9iNnn"
      },
      "outputs": [],
      "source": [
        "# Defining some key variables that will be used later on in the training\n",
        "TRAIN_BATCH_SIZE = 16\n",
        "VALID_BATCH_SIZE = 8\n",
        "# EPOCHS = 1\n",
        "LEARNING_RATE = 1e-05\n",
        "tokenizer = RobertaTokenizer.from_pretrained('roberta-base', truncation=True, do_lower_case=True)"
      ]
    },
    {
      "cell_type": "code",
      "execution_count": null,
      "metadata": {
        "id": "9cd3bc70"
      },
      "outputs": [],
      "source": [
        "class SentimentClassifier(nn.Module):\n",
        "    def __init__(self, n_classes):\n",
        "        super(SentimentClassifier, self).__init__()\n",
        "        self.roberta = RobertaModel.from_pretrained('roberta-base')\n",
        "        self.drop = nn.Dropout(p=0.5)\n",
        "        self.out = nn.Linear(self.roberta.config.hidden_size, n_classes)\n",
        "\n",
        "    def forward(self, input_ids, attention_mask):\n",
        "        _, pooled_output = self.roberta(\n",
        "            input_ids=input_ids,\n",
        "            attention_mask=attention_mask,\n",
        "        return_dict=False)\n",
        "        \n",
        "        # print(input_ids.shape)\n",
        "        # print(input_ids.dtype)\n",
        "        # print(attention_mask.shape)\n",
        "        # print(attention_mask.dtype)\n",
        "        # print(type(pooled_output))\n",
        "        # print(pooled_output)\n",
        "        \n",
        "        output = self.drop(pooled_output)\n",
        "        return self.out(output)"
      ]
    },
    {
      "cell_type": "code",
      "execution_count": null,
      "metadata": {
        "outputId": "f17cf9e3-e594-4a0c-8e76-519dcee84304",
        "id": "Bm2pgStEiNno"
      },
      "outputs": [
        {
          "name": "stderr",
          "output_type": "stream",
          "text": [
            "Some weights of the model checkpoint at roberta-base were not used when initializing RobertaModel: ['lm_head.bias', 'lm_head.decoder.weight', 'lm_head.dense.bias', 'lm_head.layer_norm.weight', 'lm_head.layer_norm.bias', 'lm_head.dense.weight']\n",
            "- This IS expected if you are initializing RobertaModel from the checkpoint of a model trained on another task or with another architecture (e.g. initializing a BertForSequenceClassification model from a BertForPreTraining model).\n",
            "- This IS NOT expected if you are initializing RobertaModel from the checkpoint of a model that you expect to be exactly identical (initializing a BertForSequenceClassification model from a BertForSequenceClassification model).\n"
          ]
        }
      ],
      "source": [
        "model = SentimentClassifier(n_classes=3).to(device)\n",
        "model= model.to(device)"
      ]
    },
    {
      "cell_type": "code",
      "execution_count": null,
      "metadata": {
        "id": "gKuO7orziNno"
      },
      "outputs": [],
      "source": [
        "optimizer = torch.optim.Adam(model.parameters(), lr=LEARNING_RATE)\n",
        "loss_fn = torch.nn.CrossEntropyLoss().to(device)"
      ]
    },
    {
      "cell_type": "code",
      "execution_count": null,
      "metadata": {
        "id": "gIhBL8quiNno"
      },
      "outputs": [],
      "source": [
        "X_train, x_val, Y_train, y_val = train_test_split(train_data['clean_text'], train_data['manual_label'], test_size=0.2,stratify=train_data['manual_label'], random_state=42)"
      ]
    },
    {
      "cell_type": "code",
      "execution_count": null,
      "metadata": {
        "id": "64uijW5UiNno"
      },
      "outputs": [],
      "source": [
        "X_test, y_test = test_data['clean_text'].to_numpy(), test_data['manual_label'].to_numpy()\n",
        "X_full_dataset, Y_full_dataset = full_dataset_df['clean_text'].to_numpy(), [0]*full_dataset_df.shape[0]"
      ]
    },
    {
      "cell_type": "code",
      "execution_count": null,
      "metadata": {
        "outputId": "c96c3aed-7770-484e-9682-679ed5588d2f",
        "id": "O0na4OKAiNnp"
      },
      "outputs": [
        {
          "name": "stderr",
          "output_type": "stream",
          "text": [
            "/home/UG/teog0015/.conda/envs/patenv/lib/python3.9/site-packages/transformers/tokenization_utils_base.py:2346: FutureWarning: The `pad_to_max_length` argument is deprecated and will be removed in a future version, use `padding=True` or `padding='longest'` to pad to the longest sequence in the batch, or use `padding='max_length'` to pad to a max length. In this case, you can give a specific length with `max_length` (e.g. `max_length=45`) or leave max_length to None to pad to the maximal input size of the model (e.g. 512 for Bert).\n",
            "  warnings.warn(\n"
          ]
        }
      ],
      "source": [
        "# Tokenize the text and convert them to PyTorch tensors\n",
        "train_tokens = tokenizer.batch_encode_plus(\n",
        "    X_train.values.tolist(),\n",
        "    max_length=256,\n",
        "    pad_to_max_length=True,\n",
        "    truncation=True\n",
        ")\n",
        "\n",
        "val_tokens = tokenizer.batch_encode_plus(\n",
        "    x_val.values.tolist(),\n",
        "    max_length=256,\n",
        "    pad_to_max_length=True,\n",
        "    truncation=True\n",
        ")\n",
        "\n",
        "test_tokens = tokenizer.batch_encode_plus(\n",
        "    X_test,\n",
        "    max_length=256,\n",
        "    pad_to_max_length=True,\n",
        "    truncation=True\n",
        ")\n",
        "\n",
        "full_dataset_tokens = tokenizer.batch_encode_plus(\n",
        "    X_full_dataset,\n",
        "    max_length=256,\n",
        "    pad_to_max_length=True,\n",
        "    truncation=True\n",
        ")"
      ]
    },
    {
      "cell_type": "code",
      "execution_count": null,
      "metadata": {
        "outputId": "06fce24b-c5da-42ad-c72a-629eae19941f",
        "id": "f0I7g5PyiNnp"
      },
      "outputs": [
        {
          "name": "stderr",
          "output_type": "stream",
          "text": [
            "/home/UG/teog0015/.conda/envs/patenv/lib/python3.9/site-packages/sklearn/preprocessing/_encoders.py:828: FutureWarning: `sparse` was renamed to `sparse_output` in version 1.2 and will be removed in 1.4. `sparse_output` is ignored unless you leave `sparse` to its default value.\n",
            "  warnings.warn(\n"
          ]
        }
      ],
      "source": [
        "# Encode the labels as integers\n",
        "label_encoder = LabelEncoder()\n",
        "train_y_encoded = label_encoder.fit_transform(Y_train)\n",
        "val_y_encoded = label_encoder.transform(y_val)\n",
        "test_y_encoded = label_encoder.transform(y_test)\n",
        "\n",
        "# One-hot encode the labels\n",
        "onehot_encoder = OneHotEncoder(sparse=False, categories='auto')\n",
        "train_y = onehot_encoder.fit_transform(train_y_encoded.reshape(-1, 1))\n",
        "val_y = onehot_encoder.transform(val_y_encoded.reshape(-1, 1))\n",
        "test_y = onehot_encoder.transform(test_y_encoded.reshape(-1, 1))"
      ]
    },
    {
      "cell_type": "code",
      "execution_count": null,
      "metadata": {
        "id": "L_L7UR4JiNnp"
      },
      "outputs": [],
      "source": [
        "train_seq = torch.tensor(train_tokens['input_ids'])\n",
        "train_mask = torch.tensor(train_tokens['attention_mask'])\n",
        "train_y = torch.tensor(train_y)\n",
        "\n",
        "val_seq = torch.tensor(val_tokens['input_ids'])\n",
        "val_mask = torch.tensor(val_tokens['attention_mask'])\n",
        "val_y = torch.tensor(val_y)\n",
        "\n",
        "test_seq = torch.tensor(test_tokens['input_ids'])\n",
        "test_mask = torch.tensor(test_tokens['attention_mask'])\n",
        "test_y = torch.tensor(test_y)\n",
        "\n",
        "full_dataset_seq = torch.tensor(full_dataset_tokens['input_ids'])\n",
        "full_dataset_mask = torch.tensor(full_dataset_tokens['attention_mask'])\n",
        "full_dataset_y = torch.tensor(Y_full_dataset)\n"
      ]
    },
    {
      "cell_type": "code",
      "execution_count": null,
      "metadata": {
        "id": "-M3rgWjaiNnp"
      },
      "outputs": [],
      "source": [
        "train_data = TensorDataset(train_seq, train_mask, train_y)\n",
        "train_sampler = RandomSampler(train_data)\n",
        "train_dataloader = DataLoader(train_data, batch_size=TRAIN_BATCH_SIZE, shuffle=True)"
      ]
    },
    {
      "cell_type": "code",
      "execution_count": null,
      "metadata": {
        "id": "oKoUbUGqiNnp"
      },
      "outputs": [],
      "source": [
        "val_data = TensorDataset(val_seq, val_mask, val_y)\n",
        "val_sampler = SequentialSampler(val_data)\n",
        "val_dataloader = DataLoader(val_data, batch_size=VALID_BATCH_SIZE, shuffle=True)"
      ]
    },
    {
      "cell_type": "code",
      "execution_count": null,
      "metadata": {
        "id": "BNjKdkHAiNnp"
      },
      "outputs": [],
      "source": [
        "test_data = TensorDataset(test_seq, test_mask, test_y)\n",
        "test_sampler = SequentialSampler(test_data)\n",
        "test_dataloader = DataLoader(test_data, batch_size=VALID_BATCH_SIZE, shuffle=False)"
      ]
    },
    {
      "cell_type": "code",
      "execution_count": null,
      "metadata": {
        "id": "592ef291"
      },
      "outputs": [],
      "source": [
        "full_data = TensorDataset(full_dataset_seq, full_dataset_mask, full_dataset_y)\n",
        "full_dataset_dataloader = DataLoader(full_data, batch_size=VALID_BATCH_SIZE, shuffle=False)"
      ]
    },
    {
      "cell_type": "code",
      "execution_count": null,
      "metadata": {
        "outputId": "ad3a0f10-f577-4f55-9c46-1113c9c61e0c",
        "id": "OMF8CHRiiNnq"
      },
      "outputs": [
        {
          "name": "stdout",
          "output_type": "stream",
          "text": [
            "Epoch 1/5\n",
            "--------------------\n"
          ]
        },
        {
          "name": "stderr",
          "output_type": "stream",
          "text": [
            "100%|██████████| 111/111 [00:27<00:00,  4.10it/s]\n"
          ]
        },
        {
          "name": "stdout",
          "output_type": "stream",
          "text": [
            "Training loss: 0.7964\n"
          ]
        },
        {
          "name": "stderr",
          "output_type": "stream",
          "text": [
            "100%|██████████| 56/56 [00:02<00:00, 22.48it/s]\n"
          ]
        },
        {
          "name": "stdout",
          "output_type": "stream",
          "text": [
            "Validation loss: 0.5119\n",
            "Validation Accuracy: 0.7723\n",
            "Validation Precision: 0.7848\n",
            "Validation Recall: 0.7748\n",
            "Validation F1-score: 0.7656\n",
            "Epoch 2/5\n",
            "--------------------\n"
          ]
        },
        {
          "name": "stderr",
          "output_type": "stream",
          "text": [
            "100%|██████████| 111/111 [00:28<00:00,  3.91it/s]\n"
          ]
        },
        {
          "name": "stdout",
          "output_type": "stream",
          "text": [
            "Training loss: 0.4207\n"
          ]
        },
        {
          "name": "stderr",
          "output_type": "stream",
          "text": [
            "100%|██████████| 56/56 [00:02<00:00, 22.83it/s]\n"
          ]
        },
        {
          "name": "stdout",
          "output_type": "stream",
          "text": [
            "Validation loss: 0.2960\n",
            "Validation Accuracy: 0.8839\n",
            "Validation Precision: 0.8898\n",
            "Validation Recall: 0.8829\n",
            "Validation F1-score: 0.8845\n",
            "Epoch 3/5\n",
            "--------------------\n"
          ]
        },
        {
          "name": "stderr",
          "output_type": "stream",
          "text": [
            "100%|██████████| 111/111 [00:27<00:00,  4.06it/s]\n"
          ]
        },
        {
          "name": "stdout",
          "output_type": "stream",
          "text": [
            "Training loss: 0.2815\n"
          ]
        },
        {
          "name": "stderr",
          "output_type": "stream",
          "text": [
            "100%|██████████| 56/56 [00:02<00:00, 24.24it/s]\n"
          ]
        },
        {
          "name": "stdout",
          "output_type": "stream",
          "text": [
            "Validation loss: 0.2232\n",
            "Validation Accuracy: 0.9107\n",
            "Validation Precision: 0.9113\n",
            "Validation Recall: 0.9099\n",
            "Validation F1-score: 0.9098\n",
            "Epoch 4/5\n",
            "--------------------\n"
          ]
        },
        {
          "name": "stderr",
          "output_type": "stream",
          "text": [
            "100%|██████████| 111/111 [00:26<00:00,  4.24it/s]\n"
          ]
        },
        {
          "name": "stdout",
          "output_type": "stream",
          "text": [
            "Training loss: 0.1978\n"
          ]
        },
        {
          "name": "stderr",
          "output_type": "stream",
          "text": [
            "100%|██████████| 56/56 [00:02<00:00, 24.97it/s]\n"
          ]
        },
        {
          "name": "stdout",
          "output_type": "stream",
          "text": [
            "Validation loss: 0.2554\n",
            "Validation Accuracy: 0.9018\n",
            "Validation Precision: 0.9057\n",
            "Validation Recall: 0.9054\n",
            "Validation F1-score: 0.9048\n",
            "Epoch 5/5\n",
            "--------------------\n"
          ]
        },
        {
          "name": "stderr",
          "output_type": "stream",
          "text": [
            "100%|██████████| 111/111 [00:26<00:00,  4.27it/s]\n"
          ]
        },
        {
          "name": "stdout",
          "output_type": "stream",
          "text": [
            "Training loss: 0.1337\n"
          ]
        },
        {
          "name": "stderr",
          "output_type": "stream",
          "text": [
            "100%|██████████| 56/56 [00:02<00:00, 24.98it/s]\n"
          ]
        },
        {
          "name": "stdout",
          "output_type": "stream",
          "text": [
            "Validation loss: 0.3536\n",
            "Validation Accuracy: 0.8929\n",
            "Validation Precision: 0.8963\n",
            "Validation Recall: 0.8919\n",
            "Validation F1-score: 0.8811\n",
            "Training time: 146.744\n"
          ]
        }
      ],
      "source": [
        "# Training loop\n",
        "epochs = 5\n",
        "start = time.time()\n",
        "for epoch in range(epochs):\n",
        "    precision_ = 0\n",
        "    recall_ = 0\n",
        "    f1_ = 0\n",
        "    print(f'Epoch {epoch + 1}/{epochs}')\n",
        "    print('-' * 20)\n",
        "\n",
        "    model.train()\n",
        "\n",
        "    train_loss = 0\n",
        "    for batch in tqdm(train_dataloader):\n",
        "        batch_seq, batch_mask, batch_y = tuple(t.to(device) for t in batch)\n",
        "        optimizer.zero_grad()\n",
        "        outputs = model(batch_seq, attention_mask=batch_mask)\n",
        "        loss = loss_fn(outputs, batch_y)\n",
        "        train_loss += loss.item()\n",
        "        loss.backward()\n",
        "        optimizer.step()\n",
        "        optimizer.zero_grad()\n",
        "\n",
        "    train_loss = train_loss / len(train_dataloader)\n",
        "    print(f'Training loss: {train_loss:.4f}')\n",
        "\n",
        "    model.eval()\n",
        "\n",
        "    eval_loss = 0\n",
        "    eval_acc = 0\n",
        "    nb_eval_steps = 0\n",
        "    predictions = []\n",
        "    true_labels = []\n",
        "    for batch in tqdm(val_dataloader):\n",
        "        batch_seq, batch_mask, batch_y = tuple(t.to(device) for t in batch)\n",
        "        with torch.no_grad():\n",
        "            outputs = model(batch_seq, attention_mask=batch_mask)\n",
        "        logits = outputs\n",
        "        label_ids = batch_y.to('cpu').numpy()\n",
        "        tmp_eval_accuracy = accuracy_score(np.argmax(label_ids, axis=1), np.argmax(logits.detach().cpu().numpy(), axis=1))\n",
        "        eval_acc += tmp_eval_accuracy\n",
        "        predictions.append(np.argmax(logits.detach().cpu(), axis=1))\n",
        "        true_labels.append(np.argmax(label_ids, axis=1))\n",
        "        loss = loss_fn(logits.detach().cpu(), batch_y.to('cpu').argmax(dim=1))\n",
        "        eval_loss += loss.item()\n",
        "        \n",
        "        nb_eval_steps += 1\n",
        "    eval_loss = eval_loss / nb_eval_steps\n",
        "    eval_acc = eval_acc / len(val_dataloader)\n",
        "    print(f'Validation loss: {eval_loss:.4f}')\n",
        "    print(f'Validation Accuracy: {eval_acc:.4f}')\n",
        "\n",
        "    # Compute precision, recall, and F1-score\n",
        "    predictions = np.concatenate(predictions)\n",
        "    true_labels = np.concatenate(true_labels)\n",
        "    precision, recall, f1, _ = precision_recall_fscore_support(true_labels, predictions, average='weighted')\n",
        "    precision_ += precision\n",
        "    recall_ += recall\n",
        "    f1_ += f1\n",
        "    print(f'Validation Precision: {precision:.4f}')\n",
        "    print(f'Validation Recall: {recall:.4f}')\n",
        "    print(f'Validation F1-score: {f1:.4f}')\n",
        "end = time.time()\n",
        "print(\"Training time: {:.3f}\".format(end-start))\n",
        "torch.save(model.state_dict(), 'RoBERTaModel.pth')"
      ]
    },
    {
      "cell_type": "code",
      "execution_count": null,
      "metadata": {
        "outputId": "b4656ae9-9271-4ec5-e407-bd66a18c7baf",
        "id": "QyWqhuiDiNnq"
      },
      "outputs": [
        {
          "name": "stdout",
          "output_type": "stream",
          "text": [
            "Test loss: 0.5275\n",
            "Test Accuracy: 0.8375\n",
            "Test Precision: 0.8397\n",
            "Test Recall: 0.8375\n",
            "Test F1-score: 0.8295\n",
            "Time taken for evaluation on test data: 1.922\n"
          ]
        }
      ],
      "source": [
        "# Test the model on the test set\n",
        "\n",
        "model.eval()\n",
        "\n",
        "test_loss = 0\n",
        "test_acc = 0\n",
        "nb_test_steps = 0\n",
        "predictions = []\n",
        "true_labels = []\n",
        "start = time.time()\n",
        "for batch in test_dataloader:\n",
        "    batch_seq, batch_mask, batch_y = tuple(t.to(device) for t in batch)\n",
        "    with torch.no_grad():\n",
        "        outputs = model(batch_seq, attention_mask=batch_mask)\n",
        "    logits = outputs\n",
        "    label_ids = batch_y.to('cpu').numpy()\n",
        "    tmp_eval_accuracy = accuracy_score(np.argmax(label_ids, axis=1), np.argmax(logits.detach().cpu().numpy(), axis=1))\n",
        "    test_acc += tmp_eval_accuracy\n",
        "    predictions.append(np.argmax(logits.detach().cpu(), axis=1))\n",
        "    true_labels.append(np.argmax(label_ids, axis=1))\n",
        "    loss = torch.nn.functional.cross_entropy(logits.detach().cpu(), batch_y.to('cpu').argmax(dim=1))\n",
        "    test_loss += loss.item()\n",
        "    nb_eval_steps += 1\n",
        "    nb_test_steps +=1\n",
        "\n",
        "end = time.time()\n",
        "test_loss = test_loss / nb_test_steps\n",
        "test_acc = test_acc / len(test_dataloader)\n",
        "print(f'Test loss: {test_loss:.4f}')\n",
        "print(f'Test Accuracy: {test_acc:.4f}')\n",
        "\n",
        "# Compute precision, recall, and F1-score\n",
        "test_predictions = np.concatenate(predictions)\n",
        "test_true_labels = np.concatenate(true_labels)\n",
        "precision, recall, f1, _ = precision_recall_fscore_support(test_true_labels, test_predictions, average='weighted')\n",
        "print(f'Test Precision: {precision:.4f}')\n",
        "print(f'Test Recall: {recall:.4f}')\n",
        "print(f'Test F1-score: {f1:.4f}')\n",
        "print(\"Time taken for evaluation on test data: {:.3f}\".format(end-start))"
      ]
    },
    {
      "cell_type": "code",
      "execution_count": null,
      "metadata": {
        "outputId": "782fed3b-c236-40b2-c975-d2c8da058066",
        "id": "mGyd5DJ0iNnq"
      },
      "outputs": [
        {
          "data": {
            "text/html": [
              "<div>\n",
              "<style scoped>\n",
              "    .dataframe tbody tr th:only-of-type {\n",
              "        vertical-align: middle;\n",
              "    }\n",
              "\n",
              "    .dataframe tbody tr th {\n",
              "        vertical-align: top;\n",
              "    }\n",
              "\n",
              "    .dataframe thead th {\n",
              "        text-align: right;\n",
              "    }\n",
              "</style>\n",
              "<table border=\"1\" class=\"dataframe\">\n",
              "  <thead>\n",
              "    <tr style=\"text-align: right;\">\n",
              "      <th></th>\n",
              "      <th>clean_text</th>\n",
              "      <th>predicted_label</th>\n",
              "      <th>actual_label</th>\n",
              "    </tr>\n",
              "  </thead>\n",
              "  <tbody>\n",
              "    <tr>\n",
              "      <th>0</th>\n",
              "      <td>day mapo tofu healthy meal mean tofu got ta co...</td>\n",
              "      <td>pos</td>\n",
              "      <td>neu</td>\n",
              "    </tr>\n",
              "    <tr>\n",
              "      <th>1</th>\n",
              "      <td>azuki room magicwin cryptochazman yasirali nft...</td>\n",
              "      <td>neu</td>\n",
              "      <td>neu</td>\n",
              "    </tr>\n",
              "    <tr>\n",
              "      <th>2</th>\n",
              "      <td>nft lending agreement benddao ethereum reserve...</td>\n",
              "      <td>pos</td>\n",
              "      <td>pos</td>\n",
              "    </tr>\n",
              "    <tr>\n",
              "      <th>3</th>\n",
              "      <td>meebit bought eth usd blur meebits meebitsnft</td>\n",
              "      <td>pos</td>\n",
              "      <td>pos</td>\n",
              "    </tr>\n",
              "    <tr>\n",
              "      <th>4</th>\n",
              "      <td>sold punksticker new owner thanks enjoy nftcol...</td>\n",
              "      <td>pos</td>\n",
              "      <td>pos</td>\n",
              "    </tr>\n",
              "    <tr>\n",
              "      <th>...</th>\n",
              "      <td>...</td>\n",
              "      <td>...</td>\n",
              "      <td>...</td>\n",
              "    </tr>\n",
              "    <tr>\n",
              "      <th>395</th>\n",
              "      <td>meebits swept total eth usd blur meebits meebi...</td>\n",
              "      <td>pos</td>\n",
              "      <td>pos</td>\n",
              "    </tr>\n",
              "    <tr>\n",
              "      <th>396</th>\n",
              "      <td>voxel punkbit new owner sumrtime voxelpunkbits...</td>\n",
              "      <td>pos</td>\n",
              "      <td>pos</td>\n",
              "    </tr>\n",
              "    <tr>\n",
              "      <th>397</th>\n",
              "      <td>hmm mekaverse apekidsclub floor almost price n...</td>\n",
              "      <td>pos</td>\n",
              "      <td>neu</td>\n",
              "    </tr>\n",
              "    <tr>\n",
              "      <th>398</th>\n",
              "      <td>azuki sold eth nft collection azuki floor pric...</td>\n",
              "      <td>pos</td>\n",
              "      <td>pos</td>\n",
              "    </tr>\n",
              "    <tr>\n",
              "      <th>399</th>\n",
              "      <td>public sale live cybotz nft top nft sale last ...</td>\n",
              "      <td>pos</td>\n",
              "      <td>pos</td>\n",
              "    </tr>\n",
              "  </tbody>\n",
              "</table>\n",
              "<p>400 rows × 3 columns</p>\n",
              "</div>"
            ],
            "text/plain": [
              "                                            clean_text predicted_label  \\\n",
              "0    day mapo tofu healthy meal mean tofu got ta co...             pos   \n",
              "1    azuki room magicwin cryptochazman yasirali nft...             neu   \n",
              "2    nft lending agreement benddao ethereum reserve...             pos   \n",
              "3        meebit bought eth usd blur meebits meebitsnft             pos   \n",
              "4    sold punksticker new owner thanks enjoy nftcol...             pos   \n",
              "..                                                 ...             ...   \n",
              "395  meebits swept total eth usd blur meebits meebi...             pos   \n",
              "396  voxel punkbit new owner sumrtime voxelpunkbits...             pos   \n",
              "397  hmm mekaverse apekidsclub floor almost price n...             pos   \n",
              "398  azuki sold eth nft collection azuki floor pric...             pos   \n",
              "399  public sale live cybotz nft top nft sale last ...             pos   \n",
              "\n",
              "    actual_label  \n",
              "0            neu  \n",
              "1            neu  \n",
              "2            pos  \n",
              "3            pos  \n",
              "4            pos  \n",
              "..           ...  \n",
              "395          pos  \n",
              "396          pos  \n",
              "397          neu  \n",
              "398          pos  \n",
              "399          pos  \n",
              "\n",
              "[400 rows x 3 columns]"
            ]
          },
          "execution_count": 26,
          "metadata": {},
          "output_type": "execute_result"
        }
      ],
      "source": [
        "# Convert the predicted labels back to their original text labels\n",
        "predicted_labels = label_encoder.inverse_transform(test_predictions)\n",
        "actual_labels = label_encoder.inverse_transform(np.argmax(test_y, axis=1))\n",
        "\n",
        "# Create a new DataFrame with the predicted labels and the original labels\n",
        "results_df = pd.DataFrame({'clean_text': X_test, 'predicted_label': predicted_labels, 'actual_label': actual_labels})\n",
        "results_df\n"
      ]
    },
    {
      "cell_type": "code",
      "source": [
        "# A helper function for displaying the report\n",
        "def Classification_Report(y_true, y_pred):\n",
        "    print(f\"Classification Report:\\n\\n\",classification_report(y_true, y_pred))"
      ],
      "metadata": {
        "colab": {
          "base_uri": "https://localhost:8080/"
        },
        "id": "KkVwttXWC_7S",
        "outputId": "5911772c-40d9-4648-8c0b-afdbbe44523b"
      },
      "execution_count": null,
      "outputs": [
        {
          "output_type": "stream",
          "name": "stdout",
          "text": [
            "              precision    recall  f1-score   support\n",
            "\n",
            "         neg       0.62      0.86      0.72        21\n",
            "         neu       0.78      0.73      0.75       102\n",
            "         pos       0.91      0.91      0.91       277\n",
            "\n",
            "    accuracy                           0.86       400\n",
            "   macro avg       0.77      0.83      0.79       400\n",
            "weighted avg       0.86      0.86      0.86       400\n",
            "\n"
          ]
        }
      ]
    },
    {
      "cell_type": "markdown",
      "source": [
        "## Apply on full dataset"
      ],
      "metadata": {
        "id": "oaPC3_YDdvey"
      }
    },
    {
      "cell_type": "code",
      "execution_count": null,
      "metadata": {
        "id": "23cffcb5",
        "outputId": "ef660178-43d6-4051-9f15-20ead386cae2"
      },
      "outputs": [
        {
          "name": "stdout",
          "output_type": "stream",
          "text": [
            "Time taken for predictions on full dataset: 100.800\n"
          ]
        }
      ],
      "source": [
        "full_dataset_predictions = []\n",
        "model.eval()\n",
        "start = time.time()\n",
        "for batch in full_dataset_dataloader:\n",
        "    batch_seq, batch_mask, batch_y = tuple(t.to(device) for t in batch)\n",
        "    with torch.no_grad():\n",
        "        outputs = model(batch_seq, attention_mask=batch_mask)\n",
        "    logits = outputs\n",
        "    full_dataset_predictions.append(np.argmax(logits.detach().cpu(), axis=1))\n",
        "end = time.time()\n",
        "print(\"Time taken for predictions on full dataset: {:.3f}\".format(end-start))"
      ]
    },
    {
      "cell_type": "code",
      "source": [
        "full_dataset_predictions_concat = np.concatenate(full_dataset_predictions)\n",
        "full_dataset_predicted_labels = label_encoder.inverse_transform(full_dataset_predictions_concat)"
      ],
      "metadata": {
        "id": "Wittuv-SiqnP"
      },
      "execution_count": null,
      "outputs": []
    },
    {
      "cell_type": "code",
      "source": [
        "full_dataset_df['roberta'] = full_dataset_predicted_labels"
      ],
      "metadata": {
        "id": "tdVsB1XBiquf"
      },
      "execution_count": null,
      "outputs": []
    },
    {
      "cell_type": "code",
      "source": [
        "counts = df['roberta'].value_counts()\n",
        "\n",
        "counts"
      ],
      "metadata": {
        "colab": {
          "base_uri": "https://localhost:8080/"
        },
        "id": "jZlyDfFrEugl",
        "outputId": "2efe07f4-901b-40dd-a4c5-7833c131ad1d"
      },
      "execution_count": null,
      "outputs": [
        {
          "output_type": "execute_result",
          "data": {
            "text/plain": [
              "pos    14252\n",
              "neu     4488\n",
              "neg     1555\n",
              "Name: RoBERTa Predictions, dtype: int64"
            ]
          },
          "metadata": {},
          "execution_count": 58
        }
      ]
    },
    {
      "cell_type": "code",
      "source": [
        "df['roberta'].value_counts().plot.bar()"
      ],
      "metadata": {
        "colab": {
          "base_uri": "https://localhost:8080/",
          "height": 459
        },
        "id": "vUbmiAxAEumh",
        "outputId": "fab14c0a-61dd-4ac1-bec3-5b5ad50aca05"
      },
      "execution_count": null,
      "outputs": [
        {
          "output_type": "execute_result",
          "data": {
            "text/plain": [
              "<Axes: >"
            ]
          },
          "metadata": {},
          "execution_count": 59
        },
        {
          "output_type": "display_data",
          "data": {
            "text/plain": [
              "<Figure size 640x480 with 1 Axes>"
            ],
            "image/png": "[encoded data removed]"
          },
          "metadata": {}
        }
      ]
    },
    {
      "cell_type": "code",
      "source": [
        "full_dataset_df.to_csv('../dataset/BERT_full_dataset_final.csv', index=False)"
      ],
      "metadata": {
        "id": "AQj5zahoitrG"
      },
      "execution_count": null,
      "outputs": []
    }
  ]
}