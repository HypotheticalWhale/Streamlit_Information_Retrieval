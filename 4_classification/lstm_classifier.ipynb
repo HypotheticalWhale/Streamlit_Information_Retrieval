{
  "nbformat": 4,
  "nbformat_minor": 0,
  "metadata": {
    "colab": {
      "provenance": []
    },
    "kernelspec": {
      "name": "python3",
      "display_name": "Python 3"
    },
    "language_info": {
      "name": "python"
    }
  },
  "cells": [
    {
      "cell_type": "markdown",
      "source": [
        "# Sentiment Analysis\n",
        "Sentiment analysis using long short-term memory classifier\n",
        "* LSTM model\n",
        "* LSTM with class weights model"
      ],
      "metadata": {
        "id": "vKPo1s32ass6"
      }
    },
    {
      "cell_type": "markdown",
      "source": [
        "## Import and install required libraries"
      ],
      "metadata": {
        "id": "yNa_d21ca8yO"
      }
    },
    {
      "cell_type": "code",
      "execution_count": null,
      "metadata": {
        "id": "3547f4af"
      },
      "outputs": [],
      "source": [
        "import pandas as pd\n",
        "import numpy as np\n",
        "import re\n",
        "import os\n",
        "import seaborn as sb\n",
        "import matplotlib.pyplot as plt \n",
        "sb.set() \n",
        "import nltk\n",
        "import tensorflow as tf\n",
        "from nltk.stem import WordNetLemmatizer\n",
        "from nltk import pos_tag, word_tokenize\n",
        "from nltk.corpus import stopwords, wordnet\n",
        "from tensorflow.keras.utils import to_categorical\n",
        "from tensorflow.keras.models import Model\n",
        "from tensorflow.keras.models import Sequential, load_model\n",
        "from tensorflow.keras.layers import Dense, LSTM, Embedding, Dropout\n",
        "from tensorflow.keras.preprocessing.text import Tokenizer\n",
        "from sklearn.model_selection import KFold\n",
        "from tensorflow.keras.preprocessing.sequence import pad_sequences\n",
        "from tensorflow.keras.optimizers import Adam\n",
        "from wordcloud import WordCloud\n",
        "from sklearn.model_selection import train_test_split\n",
        "from gensim.models import KeyedVectors, Word2Vec\n",
        "from sklearn.metrics import confusion_matrix, classification_report, accuracy_score\n",
        "from sklearn.metrics import precision_recall_fscore_support\n",
        "from sklearn.preprocessing import LabelEncoder\n",
        "from keras.callbacks import ReduceLROnPlateau, EarlyStopping,ModelCheckpoint\n",
        "import time\n",
        "from sklearn.utils import class_weight\n",
        "from keras.initializers import Constant"
      ]
    },
    {
      "cell_type": "code",
      "execution_count": null,
      "metadata": {
        "id": "7471cb0c"
      },
      "outputs": [],
      "source": [
        "gpus = tf.config.list_physical_devices('GPU')"
      ]
    },
    {
      "cell_type": "code",
      "execution_count": null,
      "metadata": {
        "id": "59d6c046",
        "outputId": "72360117-08c5-4742-eb5a-86668be5c94a"
      },
      "outputs": [
        {
          "data": {
            "text/plain": [
              "[PhysicalDevice(name='/physical_device:GPU:0', device_type='GPU')]"
            ]
          },
          "execution_count": 3,
          "metadata": {},
          "output_type": "execute_result"
        }
      ],
      "source": [
        "gpus"
      ]
    },
    {
      "cell_type": "code",
      "execution_count": null,
      "metadata": {
        "id": "9c7c4705"
      },
      "outputs": [],
      "source": [
        "tf.config.experimental.set_memory_growth(gpus[0], True)"
      ]
    },
    {
      "cell_type": "markdown",
      "source": [
        "## Read dataset"
      ],
      "metadata": {
        "id": "rzi8I76sbXXd"
      }
    },
    {
      "cell_type": "code",
      "execution_count": null,
      "metadata": {
        "id": "d1054027"
      },
      "outputs": [],
      "source": [
        "train_data = pd.read_csv('../dataset/train_aug.csv')\n",
        "test_data = pd.read_csv('../dataset/test.csv')\n",
        "full_dataset_df = pd.read_csv('../dataset/full_dataset_final.csv')"
      ]
    },
    {
      "cell_type": "markdown",
      "source": [
        "## Word embeddings"
      ],
      "metadata": {
        "id": "luByexZnb9TX"
      }
    },
    {
      "cell_type": "code",
      "execution_count": null,
      "metadata": {
        "id": "359cbc9a"
      },
      "outputs": [],
      "source": [
        "# represents how big your dimensional size of your word2vec\n",
        "W2V_SIZE = 300 \n",
        "\n",
        "# Window_Size refers to the number of words on either side of a target word that are used to predict the target word\n",
        "W2V_WINDOW = 2 \n",
        "\n",
        "# Number of epochs to train the word2vec\n",
        "W2V_EPOCH = 32 \n",
        "\n",
        "# This mean that, if the word that occurs less than 2 times, will be drop away from the dictionary\n",
        "W2V_MIN_COUNT = 2 \n",
        "\n",
        "word2vec_model = Word2Vec(vector_size=W2V_SIZE, window=W2V_WINDOW, min_count=W2V_MIN_COUNT, workers=8)"
      ]
    },
    {
      "cell_type": "code",
      "execution_count": null,
      "metadata": {
        "id": "fb01db32"
      },
      "outputs": [],
      "source": [
        "tokens = [word_tokenize(text) for text in train_data[\"clean_text\"]]"
      ]
    },
    {
      "cell_type": "code",
      "execution_count": null,
      "metadata": {
        "id": "118d5b55"
      },
      "outputs": [],
      "source": [
        "word2vec_model.build_vocab(tokens)"
      ]
    },
    {
      "cell_type": "code",
      "execution_count": null,
      "metadata": {
        "id": "36f4758b"
      },
      "outputs": [],
      "source": [
        "X_train, x_val, Y_train, y_val = train_test_split(train_data['clean_text'], train_data['manual_label'], test_size=0.2, stratify=train_data['manual_label'], random_state=42)\n",
        "x_test, y_test = test_data['clean_text'].to_numpy(), test_data['manual_label'].to_numpy()\n",
        "X_full_dataset, Y_full_dataset = full_dataset_df['clean_text'].to_numpy(), [0]*full_dataset_df.shape[0]"
      ]
    },
    {
      "cell_type": "code",
      "execution_count": null,
      "metadata": {
        "id": "c4ac12dc"
      },
      "outputs": [],
      "source": [
        "tokenizer = Tokenizer()\n",
        "\n",
        "tokenizer.fit_on_texts(train_data['clean_text'])\n",
        "\n",
        "vocab_size = len(tokenizer.word_index) + 1"
      ]
    },
    {
      "cell_type": "code",
      "execution_count": null,
      "metadata": {
        "id": "262a18ec"
      },
      "outputs": [],
      "source": [
        "# Create embedding matrix\n",
        "embedding_matrix = np.zeros((vocab_size, W2V_SIZE))\n",
        "for word, i in tokenizer.word_index.items():\n",
        "    if word in word2vec_model.wv:\n",
        "        embedding_matrix[i] = word2vec_model.wv[word]"
      ]
    },
    {
      "cell_type": "code",
      "execution_count": null,
      "metadata": {
        "id": "4172a352"
      },
      "outputs": [],
      "source": [
        "# Creating the embedding layer based on the vocab size, Word2Vec Size, weights of the matrix as well length of the text\n",
        "embedding_layer = Embedding(vocab_size, W2V_SIZE, weights=[embedding_matrix], input_length=max_len)"
      ]
    },
    {
      "cell_type": "markdown",
      "source": [
        "## LSTM model"
      ],
      "metadata": {
        "id": "zzVc5ey2cori"
      }
    },
    {
      "cell_type": "code",
      "execution_count": null,
      "metadata": {
        "id": "4db30980"
      },
      "outputs": [],
      "source": [
        "num_classes = 3\n",
        "\n",
        "def model_LSTM():\n",
        "    model = Sequential()\n",
        "    model.add(embedding_layer)\n",
        "    model.add(Dropout(0.5))\n",
        "    model.add(LSTM(128, dropout=0.2))\n",
        "    model.add(Dense(num_classes, activation='softmax'))\n",
        "    model.compile(optimizer=Adam(learning_rate=1e-4),loss='categorical_crossentropy', metrics=['accuracy'])\n",
        "    model.summary()\n",
        "    return model"
      ]
    },
    {
      "cell_type": "code",
      "execution_count": null,
      "metadata": {
        "id": "35f16ffa"
      },
      "outputs": [],
      "source": [
        "# Callbacks to incurr early-stopping\n",
        "callbacks = [ ReduceLROnPlateau(monitor='val_loss', patience=5, cooldown=0),\n",
        "                  EarlyStopping(monitor='val_accuracy', min_delta=1e-8, patience=5)]"
      ]
    },
    {
      "cell_type": "code",
      "execution_count": null,
      "metadata": {
        "id": "f50ff972"
      },
      "outputs": [],
      "source": [
        "# A helper function for creating Confusion Matrix and displaying the report\n",
        "def Confusion_Matrix(y_true, y_pred, labels, title):\n",
        "    \n",
        "    # Create a confusion matrix\n",
        "    conf_mat = confusion_matrix(y_true, y_pred, labels=labels)\n",
        "                                                        \n",
        "    plt.figure(figsize = (10,5))\n",
        "    sb.set(font_scale=1.2)\n",
        "    sb.heatmap(conf_mat, annot=True, cmap=\"YlGnBu\", fmt='d', xticklabels=labels, yticklabels=labels)\n",
        "    plt.xlabel(\"Predicted Label\")\n",
        "    plt.ylabel(\"True Label\")\n",
        "    plt.title(\"Confusion Matrix for {}\".format(title))\n",
        "    \n",
        "    print(f\"Classification Report:\\n\\n\",classification_report(y_true, y_pred))\n",
        "    print(\"-\"*100)\n",
        "    # plt.savefig(\"visualizations/Confusion Matrix for \"+title+ \" fold \"+str(fold_count)+\".jpg\")\n",
        "    plt.show()"
      ]
    },
    {
      "cell_type": "code",
      "execution_count": null,
      "metadata": {
        "id": "228795a5"
      },
      "outputs": [],
      "source": [
        "# Pad the sequences to make all the same == maxlength\n",
        "# By right when we doing padding our sequences, the maxlen argument must be greater or equal maxlen of the longest in text\n",
        "padded_X_train = pad_sequences(tokenizer.texts_to_sequences(X_train), maxlen=max_len)\n",
        "padded_X_val = pad_sequences(tokenizer.texts_to_sequences(x_val), maxlen=max_len)\n",
        "padded_X_test = pad_sequences(tokenizer.texts_to_sequences(x_test), maxlen=max_len)\n",
        "padded_X_full_dataset = pad_sequences(tokenizer.texts_to_sequences(X_full_dataset), maxlen=max_len)"
      ]
    },
    {
      "cell_type": "code",
      "execution_count": null,
      "metadata": {
        "id": "2a05b273",
        "outputId": "2e2d6e84-445c-4c0f-9c1b-ec9ea6bff6c1"
      },
      "outputs": [
        {
          "name": "stdout",
          "output_type": "stream",
          "text": [
            "Model: \"sequential\"\n",
            "_________________________________________________________________\n",
            " Layer (type)                Output Shape              Param #   \n",
            "=================================================================\n",
            " embedding (Embedding)       (None, 265, 300)          1424100   \n",
            "                                                                 \n",
            " dropout (Dropout)           (None, 265, 300)          0         \n",
            "                                                                 \n",
            " lstm (LSTM)                 (None, 128)               219648    \n",
            "                                                                 \n",
            " dense (Dense)               (None, 3)                 387       \n",
            "                                                                 \n",
            "=================================================================\n",
            "Total params: 1,644,135\n",
            "Trainable params: 1,644,135\n",
            "Non-trainable params: 0\n",
            "_________________________________________________________________\n",
            "Epoch 1/30\n",
            "56/56 [==============================] - 7s 47ms/step - loss: 1.0652 - accuracy: 0.4960 - val_loss: 0.9872 - val_accuracy: 0.4955 - lr: 1.0000e-04\n",
            "Epoch 2/30\n",
            "56/56 [==============================] - 2s 38ms/step - loss: 0.9332 - accuracy: 0.5198 - val_loss: 0.8654 - val_accuracy: 0.6802 - lr: 1.0000e-04\n",
            "Epoch 3/30\n",
            "56/56 [==============================] - 3s 55ms/step - loss: 0.7675 - accuracy: 0.6970 - val_loss: 0.6979 - val_accuracy: 0.7140 - lr: 1.0000e-04\n",
            "Epoch 4/30\n",
            "56/56 [==============================] - 2s 35ms/step - loss: 0.6093 - accuracy: 0.7540 - val_loss: 0.6298 - val_accuracy: 0.7297 - lr: 1.0000e-04\n",
            "Epoch 5/30\n",
            "56/56 [==============================] - 2s 34ms/step - loss: 0.5084 - accuracy: 0.7743 - val_loss: 0.5194 - val_accuracy: 0.7815 - lr: 1.0000e-04\n",
            "Epoch 6/30\n",
            "56/56 [==============================] - 2s 33ms/step - loss: 0.4062 - accuracy: 0.8008 - val_loss: 0.4580 - val_accuracy: 0.7950 - lr: 1.0000e-04\n",
            "Epoch 7/30\n",
            "56/56 [==============================] - 2s 34ms/step - loss: 0.3382 - accuracy: 0.8313 - val_loss: 0.4262 - val_accuracy: 0.8063 - lr: 1.0000e-04\n",
            "Epoch 8/30\n",
            "56/56 [==============================] - 2s 33ms/step - loss: 0.2923 - accuracy: 0.8516 - val_loss: 0.4188 - val_accuracy: 0.8221 - lr: 1.0000e-04\n",
            "Epoch 9/30\n",
            "56/56 [==============================] - 2s 32ms/step - loss: 0.2604 - accuracy: 0.8821 - val_loss: 0.3979 - val_accuracy: 0.8401 - lr: 1.0000e-04\n",
            "Epoch 10/30\n",
            "56/56 [==============================] - 2s 32ms/step - loss: 0.2259 - accuracy: 0.9351 - val_loss: 0.3953 - val_accuracy: 0.8491 - lr: 1.0000e-04\n",
            "Epoch 11/30\n",
            "56/56 [==============================] - 2s 32ms/step - loss: 0.1952 - accuracy: 0.9599 - val_loss: 0.3867 - val_accuracy: 0.8468 - lr: 1.0000e-04\n",
            "Epoch 12/30\n",
            "56/56 [==============================] - 2s 36ms/step - loss: 0.1617 - accuracy: 0.9735 - val_loss: 0.3791 - val_accuracy: 0.8649 - lr: 1.0000e-04\n",
            "Epoch 13/30\n",
            "56/56 [==============================] - 2s 32ms/step - loss: 0.1276 - accuracy: 0.9825 - val_loss: 0.3833 - val_accuracy: 0.8626 - lr: 1.0000e-04\n",
            "Epoch 14/30\n",
            "56/56 [==============================] - 2s 32ms/step - loss: 0.1027 - accuracy: 0.9836 - val_loss: 0.3534 - val_accuracy: 0.8626 - lr: 1.0000e-04\n",
            "Epoch 15/30\n",
            "56/56 [==============================] - 2s 32ms/step - loss: 0.1075 - accuracy: 0.9825 - val_loss: 0.3798 - val_accuracy: 0.8243 - lr: 1.0000e-04\n",
            "Epoch 16/30\n",
            "56/56 [==============================] - 2s 32ms/step - loss: 1.1852 - accuracy: 0.8138 - val_loss: 0.3891 - val_accuracy: 0.8423 - lr: 1.0000e-04\n",
            "Epoch 17/30\n",
            "56/56 [==============================] - 2s 34ms/step - loss: 0.1328 - accuracy: 0.9757 - val_loss: 0.3488 - val_accuracy: 0.8649 - lr: 1.0000e-04\n",
            "Training time: 38.703\n"
          ]
        },
        {
          "name": "stderr",
          "output_type": "stream",
          "text": [
            "WARNING:absl:Found untraced functions such as lstm_cell_layer_call_fn, lstm_cell_layer_call_and_return_conditional_losses while saving (showing 2 of 2). These functions will not be directly callable after loading.\n"
          ]
        },
        {
          "name": "stdout",
          "output_type": "stream",
          "text": [
            "INFO:tensorflow:Assets written to: LSTM_balanced_model\\assets\n"
          ]
        },
        {
          "name": "stderr",
          "output_type": "stream",
          "text": [
            "INFO:tensorflow:Assets written to: LSTM_balanced_model\\assets\n"
          ]
        }
      ],
      "source": [
        "history = {}\n",
        "    \n",
        "le = LabelEncoder()\n",
        "\n",
        "# label encoding for our categorical variable\n",
        "y_train = le.fit_transform(Y_train)\n",
        "y_val = le.transform(y_val)\n",
        "y_test_encoded = le.transform(y_test)\n",
        "\n",
        "# One-hot encode the target variable\n",
        "y_train = to_categorical(y_train, num_classes)\n",
        "y_val = to_categorical(y_val, num_classes)\n",
        "y_test_encoded = to_categorical(y_test_encoded, num_classes)\n",
        "\n",
        "LSTM_model = model_LSTM()\n",
        "start = time.time()\n",
        "history[\"imbalanced_model\"] = LSTM_model.fit(padded_X_train, y_train,\n",
        "            batch_size=32,\n",
        "            epochs=30,\n",
        "            validation_data=(padded_X_val, y_val),\n",
        "            verbose=1,\n",
        "            callbacks=callbacks)\n",
        "end = time.time()\n",
        "print(\"Training time: {:.3f}\".format(end-start))\n",
        "LSTM_model.save('LSTM_balanced_model')"
      ]
    },
    {
      "cell_type": "code",
      "execution_count": null,
      "metadata": {
        "id": "06c66939",
        "outputId": "3e24d274-beeb-4bc7-c185-e0e3cec713a4"
      },
      "outputs": [
        {
          "data": {
            "image/png": "[encoded data removed]",
            "text/plain": [
              "<Figure size 432x288 with 1 Axes>"
            ]
          },
          "metadata": {
            "needs_background": "light"
          },
          "output_type": "display_data"
        }
      ],
      "source": [
        "train_acc = history[\"imbalanced_model\"].history['accuracy']\n",
        "val_acc = history[\"imbalanced_model\"].history['val_accuracy']\n",
        "epochs = range(1, len(train_acc) + 1)\n",
        "# plot the data\n",
        "plt.plot(epochs, train_acc, 'r', label='Training accuracy')\n",
        "plt.plot(epochs, val_acc, 'b', label='Validation accuracy')\n",
        "plt.title('Training and validation accuracy')\n",
        "plt.xlabel('Epochs')\n",
        "plt.ylabel('Accuracy')\n",
        "plt.legend()\n",
        "plt.show()"
      ]
    },
    {
      "cell_type": "code",
      "execution_count": null,
      "metadata": {
        "id": "d531df8f",
        "outputId": "c1c51009-f7f1-44e0-c916-b4aa3401c5a9"
      },
      "outputs": [
        {
          "name": "stdout",
          "output_type": "stream",
          "text": [
            "13/13 [==============================] - 1s 22ms/step\n",
            "Classification Report:\n",
            "\n",
            "               precision    recall  f1-score   support\n",
            "\n",
            "         neg       0.55      0.52      0.54        21\n",
            "         neu       0.63      0.73      0.67       102\n",
            "         pos       0.90      0.86      0.88       277\n",
            "\n",
            "    accuracy                           0.81       400\n",
            "   macro avg       0.69      0.70      0.70       400\n",
            "weighted avg       0.82      0.81      0.81       400\n",
            "\n",
            "----------------------------------------------------------------------------------------------------\n"
          ]
        },
        {
          "data": {
            "image/png": "[encoded data removed]",
            "text/plain": [
              "<Figure size 720x360 with 2 Axes>"
            ]
          },
          "metadata": {
            "needs_background": "light"
          },
          "output_type": "display_data"
        },
        {
          "name": "stdout",
          "output_type": "stream",
          "text": [
            "Evaluation time on test dataset: 0.850\n"
          ]
        }
      ],
      "source": [
        "start = time.time()\n",
        "y_pred = LSTM_model.predict(padded_X_test)\n",
        "end = time.time()\n",
        "y_pred = np.argmax(y_pred, axis=1)\n",
        "y_pred_labels = le.inverse_transform(y_pred)\n",
        "\n",
        "y_test_labels = np.argmax(y_test_encoded, axis=1)\n",
        "y_test_labels = le.inverse_transform(y_test_labels)\n",
        "\n",
        "\n",
        "Confusion_Matrix(y_test_labels, y_pred_labels, [\"pos\", \"neg\", \"neu\"], \"LSTM\")\n",
        "print(\"Evaluation time on test dataset: {:.3f}\".format(end-start))"
      ]
    },
    {
      "cell_type": "markdown",
      "source": [
        "## LSTM with class weights model"
      ],
      "metadata": {
        "id": "Jlvi8WoPdYIR"
      }
    },
    {
      "cell_type": "code",
      "execution_count": null,
      "metadata": {
        "id": "Wa7J1UcddlM_"
      },
      "outputs": [],
      "source": [
        "num_classes = 3\n",
        "\n",
        "def model_LSTM_bias(bias):\n",
        "    model = Sequential()\n",
        "    model.add(embedding_layer)\n",
        "    model.add(Dropout(0.5))\n",
        "    model.add(LSTM(128, dropout=0.2))\n",
        "    model.add(Dense(num_classes, activation='softmax',bias_initializer=bias))\n",
        "    model.compile(optimizer=Adam(learning_rate=1e-4),loss='categorical_crossentropy', metrics=['accuracy'])\n",
        "    model.summary()\n",
        "    return model"
      ]
    },
    {
      "cell_type": "code",
      "execution_count": null,
      "metadata": {
        "id": "pb3z3SwQdlM_"
      },
      "outputs": [],
      "source": [
        "# Callbacks to incurr early-stopping\n",
        "callbacks = [ ReduceLROnPlateau(monitor='val_loss', patience=20, cooldown=0),\n",
        "                  EarlyStopping(monitor='val_accuracy', min_delta=1e-8, patience=20)]"
      ]
    },
    {
      "cell_type": "code",
      "execution_count": null,
      "metadata": {
        "id": "RXzP_VYUdlM_"
      },
      "outputs": [],
      "source": [
        "# A helper function for creating Confusion Matrix and displaying the report\n",
        "def Confusion_Matrix(y_true, y_pred, labels, title):\n",
        "    \n",
        "    # Create a confusion matrix\n",
        "    conf_mat = confusion_matrix(y_true, y_pred, labels=labels)\n",
        "                                                        \n",
        "    plt.figure(figsize = (10,5))\n",
        "    sb.set(font_scale=1.2)\n",
        "    sb.heatmap(conf_mat, annot=True, cmap=\"YlGnBu\", fmt='d', xticklabels=labels, yticklabels=labels)\n",
        "    plt.xlabel(\"Predicted Label\")\n",
        "    plt.ylabel(\"True Label\")\n",
        "    plt.title(\"Confusion Matrix for {}\".format(title))\n",
        "    \n",
        "    print(f\"Classification Report:\\n\\n\",classification_report(y_true, y_pred))\n",
        "    print(\"-\"*100)\n",
        "    # plt.savefig(\"visualizations/Confusion Matrix for \"+title+ \" fold \"+str(fold_count)+\".jpg\")\n",
        "    plt.show()"
      ]
    },
    {
      "cell_type": "code",
      "execution_count": null,
      "metadata": {
        "id": "_D4Zp38ndlM_"
      },
      "outputs": [],
      "source": [
        "# Pad the sequences to make all the same == maxlength\n",
        "# By right when we doing padding our sequences, the maxlen argument must be greater or equal maxlen of the longest in text\n",
        "padded_X_train = pad_sequences(tokenizer.texts_to_sequences(X_train), maxlen=max_len)\n",
        "padded_X_val = pad_sequences(tokenizer.texts_to_sequences(x_val), maxlen=max_len)\n",
        "padded_X_test = pad_sequences(tokenizer.texts_to_sequences(x_test), maxlen=max_len)\n",
        "padded_X_full_dataset = pad_sequences(tokenizer.texts_to_sequences(X_full_dataset), maxlen=max_len)"
      ]
    },
    {
      "cell_type": "code",
      "execution_count": null,
      "metadata": {
        "outputId": "e1a264f2-0faa-443b-afb9-1f6682b6fc60",
        "id": "xQQvyXA1dlNA"
      },
      "outputs": [
        {
          "name": "stdout",
          "output_type": "stream",
          "text": [
            "Model: \"sequential\"\n",
            "_________________________________________________________________\n",
            " Layer (type)                Output Shape              Param #   \n",
            "=================================================================\n",
            " embedding (Embedding)       (None, 265, 300)          1424100   \n",
            "                                                                 \n",
            " dropout (Dropout)           (None, 265, 300)          0         \n",
            "                                                                 \n",
            " lstm (LSTM)                 (None, 128)               219648    \n",
            "                                                                 \n",
            " dense (Dense)               (None, 3)                 387       \n",
            "                                                                 \n",
            "=================================================================\n",
            "Total params: 1,644,135\n",
            "Trainable params: 1,644,135\n",
            "Non-trainable params: 0\n",
            "_________________________________________________________________\n",
            "Epoch 1/100\n",
            "56/56 [==============================] - 7s 45ms/step - loss: 1.0966 - accuracy: 0.1874 - val_loss: 1.0961 - val_accuracy: 0.1869 - lr: 1.0000e-04\n",
            "Epoch 2/100\n",
            "56/56 [==============================] - 2s 32ms/step - loss: 0.9917 - accuracy: 0.5745 - val_loss: 0.7846 - val_accuracy: 0.6847 - lr: 1.0000e-04\n",
            "Epoch 3/100\n",
            "56/56 [==============================] - 2s 31ms/step - loss: 0.8729 - accuracy: 0.6885 - val_loss: 0.7982 - val_accuracy: 0.6937 - lr: 1.0000e-04\n",
            "Epoch 4/100\n",
            "56/56 [==============================] - 2s 33ms/step - loss: 0.7577 - accuracy: 0.7703 - val_loss: 0.6959 - val_accuracy: 0.7455 - lr: 1.0000e-04\n",
            "Epoch 5/100\n",
            "56/56 [==============================] - 2s 35ms/step - loss: 0.6785 - accuracy: 0.8211 - val_loss: 0.6254 - val_accuracy: 0.7725 - lr: 1.0000e-04\n",
            "Epoch 6/100\n",
            "56/56 [==============================] - 2s 34ms/step - loss: 0.6092 - accuracy: 0.8521 - val_loss: 0.5684 - val_accuracy: 0.7950 - lr: 1.0000e-04\n",
            "Epoch 7/100\n",
            "56/56 [==============================] - 2s 37ms/step - loss: 0.5435 - accuracy: 0.8798 - val_loss: 0.5175 - val_accuracy: 0.8131 - lr: 1.0000e-04\n",
            "Epoch 8/100\n",
            "56/56 [==============================] - 2s 32ms/step - loss: 0.4821 - accuracy: 0.8979 - val_loss: 0.4734 - val_accuracy: 0.8243 - lr: 1.0000e-04\n",
            "Epoch 9/100\n",
            "56/56 [==============================] - 2s 35ms/step - loss: 0.4230 - accuracy: 0.9159 - val_loss: 0.4344 - val_accuracy: 0.8401 - lr: 1.0000e-04\n",
            "Epoch 10/100\n",
            "56/56 [==============================] - 2s 34ms/step - loss: 0.3680 - accuracy: 0.9345 - val_loss: 0.3997 - val_accuracy: 0.8604 - lr: 1.0000e-04\n",
            "Epoch 11/100\n",
            "56/56 [==============================] - 2s 35ms/step - loss: 0.3156 - accuracy: 0.9419 - val_loss: 0.3712 - val_accuracy: 0.8694 - lr: 1.0000e-04\n",
            "Epoch 12/100\n",
            "56/56 [==============================] - 2s 41ms/step - loss: 0.2706 - accuracy: 0.9486 - val_loss: 0.3515 - val_accuracy: 0.8739 - lr: 1.0000e-04\n",
            "Epoch 13/100\n",
            "56/56 [==============================] - 2s 37ms/step - loss: 0.2315 - accuracy: 0.9554 - val_loss: 0.3428 - val_accuracy: 0.8671 - lr: 1.0000e-04\n",
            "Epoch 14/100\n",
            "56/56 [==============================] - 2s 41ms/step - loss: 0.1963 - accuracy: 0.9616 - val_loss: 0.3267 - val_accuracy: 0.8694 - lr: 1.0000e-04\n",
            "Epoch 15/100\n",
            "56/56 [==============================] - 2s 42ms/step - loss: 0.1670 - accuracy: 0.9667 - val_loss: 0.3051 - val_accuracy: 0.8694 - lr: 1.0000e-04\n",
            "Epoch 16/100\n",
            "56/56 [==============================] - 2s 40ms/step - loss: 0.1419 - accuracy: 0.9707 - val_loss: 0.3016 - val_accuracy: 0.8649 - lr: 1.0000e-04\n",
            "Epoch 17/100\n",
            "56/56 [==============================] - 2s 38ms/step - loss: 0.1222 - accuracy: 0.9757 - val_loss: 0.3046 - val_accuracy: 0.8626 - lr: 1.0000e-04\n",
            "Epoch 18/100\n",
            "56/56 [==============================] - 2s 39ms/step - loss: 0.1028 - accuracy: 0.9819 - val_loss: 0.3163 - val_accuracy: 0.8626 - lr: 1.0000e-04\n",
            "Epoch 19/100\n",
            "56/56 [==============================] - 2s 36ms/step - loss: 0.0913 - accuracy: 0.9802 - val_loss: 0.3159 - val_accuracy: 0.8604 - lr: 1.0000e-04\n",
            "Epoch 20/100\n",
            "56/56 [==============================] - 2s 36ms/step - loss: 0.0773 - accuracy: 0.9853 - val_loss: 0.3225 - val_accuracy: 0.8604 - lr: 1.0000e-04\n",
            "Epoch 21/100\n",
            "56/56 [==============================] - 2s 36ms/step - loss: 0.0658 - accuracy: 0.9842 - val_loss: 0.3278 - val_accuracy: 0.8604 - lr: 1.0000e-04\n",
            "Epoch 22/100\n",
            "56/56 [==============================] - 2s 36ms/step - loss: 0.0569 - accuracy: 0.9859 - val_loss: 0.3383 - val_accuracy: 0.8604 - lr: 1.0000e-04\n",
            "Epoch 23/100\n",
            "56/56 [==============================] - 2s 36ms/step - loss: 0.0507 - accuracy: 0.9898 - val_loss: 0.3605 - val_accuracy: 0.8581 - lr: 1.0000e-04\n",
            "Epoch 24/100\n",
            "56/56 [==============================] - 2s 38ms/step - loss: 0.0471 - accuracy: 0.9887 - val_loss: 0.3590 - val_accuracy: 0.8581 - lr: 1.0000e-04\n",
            "Epoch 25/100\n",
            "56/56 [==============================] - 2s 37ms/step - loss: 0.0407 - accuracy: 0.9898 - val_loss: 0.3642 - val_accuracy: 0.8739 - lr: 1.0000e-04\n",
            "Epoch 26/100\n",
            "56/56 [==============================] - 2s 41ms/step - loss: 0.0387 - accuracy: 0.9898 - val_loss: 0.3720 - val_accuracy: 0.8649 - lr: 1.0000e-04\n",
            "Epoch 27/100\n",
            "56/56 [==============================] - 2s 41ms/step - loss: 0.0343 - accuracy: 0.9932 - val_loss: 0.3763 - val_accuracy: 0.8671 - lr: 1.0000e-04\n",
            "Epoch 28/100\n",
            "56/56 [==============================] - 2s 36ms/step - loss: 0.0297 - accuracy: 0.9932 - val_loss: 0.3754 - val_accuracy: 0.8739 - lr: 1.0000e-04\n",
            "Epoch 29/100\n",
            "56/56 [==============================] - 2s 38ms/step - loss: 0.0273 - accuracy: 0.9949 - val_loss: 0.3882 - val_accuracy: 0.8716 - lr: 1.0000e-04\n",
            "Epoch 30/100\n",
            "56/56 [==============================] - 2s 35ms/step - loss: 0.0246 - accuracy: 0.9955 - val_loss: 0.3966 - val_accuracy: 0.8716 - lr: 1.0000e-04\n",
            "Epoch 31/100\n",
            "56/56 [==============================] - 2s 36ms/step - loss: 0.0223 - accuracy: 0.9949 - val_loss: 0.4035 - val_accuracy: 0.8739 - lr: 1.0000e-04\n",
            "Epoch 32/100\n",
            "56/56 [==============================] - 2s 39ms/step - loss: 0.0206 - accuracy: 0.9960 - val_loss: 0.3938 - val_accuracy: 0.8806 - lr: 1.0000e-04\n",
            "Epoch 33/100\n",
            "56/56 [==============================] - 2s 39ms/step - loss: 0.0205 - accuracy: 0.9949 - val_loss: 0.4132 - val_accuracy: 0.8761 - lr: 1.0000e-04\n",
            "Epoch 34/100\n",
            "56/56 [==============================] - 2s 37ms/step - loss: 0.0190 - accuracy: 0.9955 - val_loss: 0.4150 - val_accuracy: 0.8739 - lr: 1.0000e-04\n",
            "Epoch 35/100\n",
            "56/56 [==============================] - 2s 37ms/step - loss: 0.0190 - accuracy: 0.9949 - val_loss: 0.4220 - val_accuracy: 0.8739 - lr: 1.0000e-04\n",
            "Epoch 36/100\n",
            "56/56 [==============================] - 2s 39ms/step - loss: 0.0184 - accuracy: 0.9955 - val_loss: 0.4138 - val_accuracy: 0.8694 - lr: 1.0000e-04\n",
            "Epoch 37/100\n",
            "56/56 [==============================] - 2s 36ms/step - loss: 0.0170 - accuracy: 0.9960 - val_loss: 0.4156 - val_accuracy: 0.8761 - lr: 1.0000e-05\n",
            "Epoch 38/100\n",
            "56/56 [==============================] - 2s 39ms/step - loss: 0.0159 - accuracy: 0.9960 - val_loss: 0.4218 - val_accuracy: 0.8761 - lr: 1.0000e-05\n",
            "Epoch 39/100\n",
            "56/56 [==============================] - 2s 43ms/step - loss: 0.0152 - accuracy: 0.9966 - val_loss: 0.4277 - val_accuracy: 0.8761 - lr: 1.0000e-05\n",
            "Epoch 40/100\n",
            "56/56 [==============================] - 2s 36ms/step - loss: 0.0151 - accuracy: 0.9972 - val_loss: 0.4301 - val_accuracy: 0.8739 - lr: 1.0000e-05\n",
            "Epoch 41/100\n",
            "56/56 [==============================] - 2s 42ms/step - loss: 0.0142 - accuracy: 0.9966 - val_loss: 0.4379 - val_accuracy: 0.8716 - lr: 1.0000e-05\n",
            "Epoch 42/100\n",
            "56/56 [==============================] - 2s 38ms/step - loss: 0.0141 - accuracy: 0.9972 - val_loss: 0.4402 - val_accuracy: 0.8716 - lr: 1.0000e-05\n",
            "Epoch 43/100\n",
            "56/56 [==============================] - 2s 45ms/step - loss: 0.0148 - accuracy: 0.9960 - val_loss: 0.4340 - val_accuracy: 0.8739 - lr: 1.0000e-05\n",
            "Epoch 44/100\n",
            "56/56 [==============================] - 2s 41ms/step - loss: 0.0145 - accuracy: 0.9972 - val_loss: 0.4316 - val_accuracy: 0.8761 - lr: 1.0000e-05\n",
            "Epoch 45/100\n",
            "56/56 [==============================] - 2s 40ms/step - loss: 0.0147 - accuracy: 0.9960 - val_loss: 0.4358 - val_accuracy: 0.8784 - lr: 1.0000e-05\n",
            "Epoch 46/100\n",
            "56/56 [==============================] - 2s 38ms/step - loss: 0.0144 - accuracy: 0.9960 - val_loss: 0.4346 - val_accuracy: 0.8784 - lr: 1.0000e-05\n",
            "Epoch 47/100\n",
            "56/56 [==============================] - 2s 40ms/step - loss: 0.0131 - accuracy: 0.9972 - val_loss: 0.4429 - val_accuracy: 0.8761 - lr: 1.0000e-05\n",
            "Epoch 48/100\n",
            "56/56 [==============================] - 2s 37ms/step - loss: 0.0142 - accuracy: 0.9972 - val_loss: 0.4371 - val_accuracy: 0.8761 - lr: 1.0000e-05\n",
            "Epoch 49/100\n",
            "56/56 [==============================] - 2s 35ms/step - loss: 0.0136 - accuracy: 0.9966 - val_loss: 0.4418 - val_accuracy: 0.8739 - lr: 1.0000e-05\n",
            "Epoch 50/100\n",
            "56/56 [==============================] - 2s 38ms/step - loss: 0.0131 - accuracy: 0.9972 - val_loss: 0.4488 - val_accuracy: 0.8716 - lr: 1.0000e-05\n",
            "Epoch 51/100\n",
            "56/56 [==============================] - 2s 36ms/step - loss: 0.0132 - accuracy: 0.9966 - val_loss: 0.4461 - val_accuracy: 0.8739 - lr: 1.0000e-05\n",
            "Epoch 52/100\n",
            "56/56 [==============================] - 2s 36ms/step - loss: 0.0139 - accuracy: 0.9972 - val_loss: 0.4376 - val_accuracy: 0.8806 - lr: 1.0000e-05\n",
            "Training time: 114.104\n"
          ]
        },
        {
          "name": "stderr",
          "output_type": "stream",
          "text": [
            "WARNING:absl:Found untraced functions such as lstm_cell_layer_call_fn, lstm_cell_layer_call_and_return_conditional_losses while saving (showing 2 of 2). These functions will not be directly callable after loading.\n"
          ]
        },
        {
          "name": "stdout",
          "output_type": "stream",
          "text": [
            "INFO:tensorflow:Assets written to: LSTM_class_weights_model\\assets\n"
          ]
        },
        {
          "name": "stderr",
          "output_type": "stream",
          "text": [
            "INFO:tensorflow:Assets written to: LSTM_class_weights_model\\assets\n"
          ]
        }
      ],
      "source": [
        "history = {}   \n",
        "le = LabelEncoder()\n",
        "\n",
        "# Calculate class weights\n",
        "class_weights = class_weight.compute_class_weight(class_weight='balanced', \n",
        "                                                classes = np.unique(Y_train),\n",
        "                                                y = Y_train)\n",
        "class_weights = dict(enumerate(class_weights))\n",
        "  \n",
        "\n",
        "# label encoding for our categorical variable\n",
        "y_train = le.fit_transform(Y_train)\n",
        "y_val = le.transform(y_val)\n",
        "y_test_encoded = le.transform(y_test)\n",
        "\n",
        "# Bias\n",
        "inverse_class_freq = np.zeros(num_classes)\n",
        "for i in range(num_classes):\n",
        "   \n",
        "    class_count = np.sum(y_train==i)\n",
        "\n",
        "    inverse_class_freq[i] = 1.0 / class_count if class_count > 0 else 0.0\n",
        "bias = inverse_class_freq / sum(inverse_class_freq)     \n",
        "\n",
        "# One-hot encode the target variable\n",
        "y_train = to_categorical(y_train, num_classes)\n",
        "y_val = to_categorical(y_val, num_classes)\n",
        "y_test_encoded = to_categorical(y_test_encoded, num_classes)\n",
        "\n",
        "LSTM_model = model_LSTM_bias(Constant(value=bias))\n",
        "\n",
        "start = time.time()\n",
        "history[\"class_weights\"] = LSTM_model.fit(padded_X_train, y_train,\n",
        "            batch_size=32,\n",
        "            epochs=100,\n",
        "            validation_data=(padded_X_val, y_val),\n",
        "            verbose=1,\n",
        "            callbacks=callbacks, class_weight = class_weights)\n",
        "end = time.time()\n",
        "print(\"Training time: {:.3f}\".format(end-start))\n",
        "LSTM_model.save('LSTM_class_weights_model')\n"
      ]
    },
    {
      "cell_type": "code",
      "execution_count": null,
      "metadata": {
        "outputId": "1a956c9d-3cd2-4444-a53e-ce883da7a3a1",
        "id": "TNhEn7tvdlNA"
      },
      "outputs": [
        {
          "data": {
            "image/png": "[encoded data removed]",
            "text/plain": [
              "<Figure size 432x288 with 1 Axes>"
            ]
          },
          "metadata": {
            "needs_background": "light"
          },
          "output_type": "display_data"
        }
      ],
      "source": [
        "train_acc = history[\"class_weights\"].history['accuracy']\n",
        "val_acc = history[\"class_weights\"].history['val_accuracy']\n",
        "epochs = range(1, len(train_acc) + 1)\n",
        "# plot the data\n",
        "plt.plot(epochs, train_acc, 'r', label='Training accuracy')\n",
        "plt.plot(epochs, val_acc, 'b', label='Validation accuracy')\n",
        "plt.title('Training and validation accuracy')\n",
        "plt.xlabel('Epochs')\n",
        "plt.ylabel('Accuracy')\n",
        "plt.legend()\n",
        "plt.show()"
      ]
    },
    {
      "cell_type": "code",
      "execution_count": null,
      "metadata": {
        "outputId": "242a78d8-de87-468b-f602-ce885af3c7b4",
        "id": "axqtgCaJdlNA"
      },
      "outputs": [
        {
          "name": "stdout",
          "output_type": "stream",
          "text": [
            "13/13 [==============================] - 1s 21ms/step\n",
            "Classification Report:\n",
            "\n",
            "               precision    recall  f1-score   support\n",
            "\n",
            "         neg       0.57      0.38      0.46        21\n",
            "         neu       0.60      0.76      0.67       102\n",
            "         pos       0.90      0.83      0.87       277\n",
            "\n",
            "    accuracy                           0.79       400\n",
            "   macro avg       0.69      0.66      0.67       400\n",
            "weighted avg       0.81      0.79      0.80       400\n",
            "\n",
            "----------------------------------------------------------------------------------------------------\n"
          ]
        },
        {
          "data": {
            "image/png": "[encoded data removed]",
            "text/plain": [
              "<Figure size 720x360 with 2 Axes>"
            ]
          },
          "metadata": {
            "needs_background": "light"
          },
          "output_type": "display_data"
        },
        {
          "name": "stdout",
          "output_type": "stream",
          "text": [
            "Evaluation time on test dataset: 0.760\n"
          ]
        }
      ],
      "source": [
        "start = time.time()\n",
        "y_pred = LSTM_model.predict(padded_X_test)\n",
        "end = time.time()\n",
        "y_pred = np.argmax(y_pred, axis=1)\n",
        "y_pred_labels = le.inverse_transform(y_pred)\n",
        "\n",
        "y_test_labels = np.argmax(y_test_encoded, axis=1)\n",
        "y_test_labels = le.inverse_transform(y_test_labels)\n",
        "\n",
        "Confusion_Matrix(y_test_labels, y_pred_labels, [\"pos\", \"neg\", \"neu\"], \"LSTM Class Weights\")\n",
        "print(\"Evaluation time on test dataset: {:.3f}\".format(end-start))"
      ]
    },
    {
      "cell_type": "markdown",
      "source": [
        "## Apply on full dataset"
      ],
      "metadata": {
        "id": "oaPC3_YDdvey"
      }
    },
    {
      "cell_type": "code",
      "execution_count": null,
      "metadata": {
        "id": "3410c405",
        "outputId": "5612be34-beab-44b2-e2a3-0c221b0f1693"
      },
      "outputs": [
        {
          "name": "stdout",
          "output_type": "stream",
          "text": [
            "635/635 [==============================] - 8s 13ms/step\n",
            "Time taken for predictions on full dataset: 8.954\n"
          ]
        }
      ],
      "source": [
        "start = time.time()\n",
        "y_full_dataset_pred = LSTM_model.predict(padded_X_full_dataset)\n",
        "end = time.time()\n",
        "y_full_dataset_pred = np.argmax(y_full_dataset_pred, axis=1)\n",
        "y_full_dataset_pred_labels = le.inverse_transform(y_full_dataset_pred)\n",
        "print(\"Time taken for predictions on full dataset: {:.3f}\".format(end-start))"
      ]
    },
    {
      "cell_type": "code",
      "source": [
        "counts = full_dataset_df['LSTM Predictions'].value_counts()\n",
        "\n",
        "counts"
      ],
      "metadata": {
        "id": "9y0cdx6keGJf",
        "colab": {
          "base_uri": "https://localhost:8080/"
        },
        "outputId": "41e35cb6-b054-416a-9354-38b19ee54a90"
      },
      "execution_count": 4,
      "outputs": [
        {
          "output_type": "execute_result",
          "data": {
            "text/plain": [
              "pos    13197\n",
              "neu     6128\n",
              "neg      970\n",
              "Name: LSTM Predictions, dtype: int64"
            ]
          },
          "metadata": {},
          "execution_count": 4
        }
      ]
    },
    {
      "cell_type": "code",
      "source": [
        "full_dataset_df['LSTM Predictions'].value_counts().plot.bar()"
      ],
      "metadata": {
        "id": "ZSwS0hoyeGQe",
        "colab": {
          "base_uri": "https://localhost:8080/",
          "height": 291
        },
        "outputId": "37f50aa3-73aa-403e-8d1f-62c2ec3324d7"
      },
      "execution_count": 5,
      "outputs": [
        {
          "output_type": "execute_result",
          "data": {
            "text/plain": [
              "<Axes: >"
            ]
          },
          "metadata": {},
          "execution_count": 5
        },
        {
          "output_type": "display_data",
          "data": {
            "text/plain": [
              "<Figure size 432x288 with 1 Axes>"
            ],
            "image/png": "[encoded data removed]"
          },
          "metadata": {
            "needs_background": "light"
          }
        }
      ]
    },
    {
      "cell_type": "code",
      "execution_count": null,
      "metadata": {
        "id": "f0875432"
      },
      "outputs": [],
      "source": [
        "full_dataset_df['LSTM Predictions'] = y_full_dataset_pred_labels\n",
        "full_dataset_df.to_csv('../dataset/LSTM_full_dataset_final.csv', index=False)"
      ]
    }
  ]
}